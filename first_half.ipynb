{
 "cells": [
  {
   "cell_type": "code",
   "execution_count": 2,
   "metadata": {},
   "outputs": [],
   "source": [
    "import pandas as pd\n",
    "import numpy as np\n",
    "import os\n",
    "import math\n",
    "import matplotlib.pyplot as plt\n",
    "%matplotlib inline\n"
   ]
  },
  {
   "cell_type": "markdown",
   "metadata": {},
   "source": [
    "1. intro\n",
    "2. micrograd overview\n",
    "3. derivative of a simple function with one input\n",
    "4. derivative of a function with multiple inputs\n",
    "5. starting the core Value object of micrograd and its visualization\n",
    "6. manual backpropagation example #1: simple expression\n",
    "7. preview of a single optimization step\n",
    "8. manual backpropagation example #2: a neuron\n",
    "9. implementing the backward function for each operation\n",
    "10. implementing the backward function for a whole expression graph\n",
    "11. fixing a backprop bug when one node is used multiple times\n",
    "12. breaking up a tanh, exercising with more operations\n",
    "13. doing the same thing but in PyTorch: comparison\n",
    "14. building out a neural net library (multi-layer perceptron) in micrograd\n",
    "15. creating a tiny dataset, writing the loss function\n",
    "16. collecting all of the parameters of the neural net\n",
    "17. doing gradient descent optimization manually, training the network\n",
    "18. summary of what we learned, how to go towards modern neural nets\n",
    "19. walkthrough of the full code of micrograd on github\n",
    "20. real stuff: diving into PyTorch, finding their backward pass for tanh\n",
    "21. conclusion"
   ]
  },
  {
   "cell_type": "markdown",
   "metadata": {},
   "source": [
    "## 3. derivative of a simple function with one input"
   ]
  },
  {
   "cell_type": "code",
   "execution_count": null,
   "metadata": {},
   "outputs": [],
   "source": []
  }
 ],
 "metadata": {
  "kernelspec": {
   "display_name": "base",
   "language": "python",
   "name": "python3"
  },
  "language_info": {
   "codemirror_mode": {
    "name": "ipython",
    "version": 3
   },
   "file_extension": ".py",
   "mimetype": "text/x-python",
   "name": "python",
   "nbconvert_exporter": "python",
   "pygments_lexer": "ipython3",
   "version": "3.7.6"
  }
 },
 "nbformat": 4,
 "nbformat_minor": 2
}
