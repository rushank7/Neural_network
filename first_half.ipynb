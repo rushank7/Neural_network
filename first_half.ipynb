{
 "cells": [
  {
   "cell_type": "code",
   "execution_count": 52,
   "metadata": {},
   "outputs": [],
   "source": [
    "import pandas as pd\n",
    "import numpy as np\n",
    "import os\n",
    "import math\n",
    "import random\n",
    "import matplotlib.pyplot as plt\n",
    "%matplotlib inline\n"
   ]
  },
  {
   "cell_type": "markdown",
   "metadata": {},
   "source": [
    "1. intro\n",
    "2. micrograd overview\n",
    "3. derivative of a simple function with one input\n",
    "4. derivative of a function with multiple inputs\n",
    "5. starting the core Value object of micrograd and its visualization\n",
    "6. manual backpropagation example #1: simple expression\n",
    "7. preview of a single optimization step\n",
    "8. manual backpropagation example #2: a neuron\n",
    "9. implementing the backward function for each operation\n",
    "10. implementing the backward function for a whole expression graph\n",
    "11. fixing a backprop bug when one node is used multiple times\n",
    "12. breaking up a tanh, exercising with more operations\n",
    "13. doing the same thing but in PyTorch: comparison\n",
    "14. building out a neural net library (multi-layer perceptron) in micrograd\n",
    "15. creating a tiny dataset, writing the loss function\n",
    "16. collecting all of the parameters of the neural net\n",
    "17. doing gradient descent optimization manually, training the network\n",
    "18. summary of what we learned, how to go towards modern neural nets\n",
    "19. walkthrough of the full code of micrograd on github\n",
    "20. real stuff: diving into PyTorch, finding their backward pass for tanh\n",
    "21. conclusion"
   ]
  },
  {
   "cell_type": "markdown",
   "metadata": {},
   "source": [
    "## 3. derivative of a simple function with one input"
   ]
  },
  {
   "cell_type": "code",
   "execution_count": 9,
   "metadata": {},
   "outputs": [],
   "source": [
    "def f(x):\n",
    "    return 3*x**2 - 4*x + 5"
   ]
  },
  {
   "cell_type": "code",
   "execution_count": 10,
   "metadata": {},
   "outputs": [
    {
     "data": {
      "text/plain": [
       "20"
      ]
     },
     "execution_count": 10,
     "metadata": {},
     "output_type": "execute_result"
    }
   ],
   "source": [
    "f(3)"
   ]
  },
  {
   "cell_type": "code",
   "execution_count": 11,
   "metadata": {},
   "outputs": [
    {
     "data": {
      "text/plain": [
       "[<matplotlib.lines.Line2D at 0x3b896708>]"
      ]
     },
     "execution_count": 11,
     "metadata": {},
     "output_type": "execute_result"
    },
    {
     "data": {
      "image/png": "[encoded data removed]",
      "text/plain": [
       "<Figure size 640x480 with 1 Axes>"
      ]
     },
     "metadata": {},
     "output_type": "display_data"
    }
   ],
   "source": [
    "xs = np.arange(-5,5,0.25)\n",
    "ys = f(xs)\n",
    "plt.plot(xs,ys)"
   ]
  },
  {
   "cell_type": "markdown",
   "metadata": {},
   "source": [
    "## 4. derivative of a function with multiple inputs"
   ]
  },
  {
   "cell_type": "code",
   "execution_count": 12,
   "metadata": {},
   "outputs": [
    {
     "data": {
      "text/plain": [
       "3.0000002482211127e-05"
      ]
     },
     "execution_count": 12,
     "metadata": {},
     "output_type": "execute_result"
    }
   ],
   "source": [
    "h = 0.00001\n",
    "x = 2/3\n",
    "(f(x+h) - f(x))/h"
   ]
  },
  {
   "cell_type": "code",
   "execution_count": 13,
   "metadata": {},
   "outputs": [
    {
     "name": "stdout",
     "output_type": "stream",
     "text": [
      "4.0\n"
     ]
    }
   ],
   "source": [
    "## lets start the complex topic\n",
    "a = 2.0\n",
    "b = -3.0\n",
    "c = 10.0\n",
    "d = a*b +c \n",
    "print(d)"
   ]
  },
  {
   "cell_type": "code",
   "execution_count": 14,
   "metadata": {},
   "outputs": [
    {
     "name": "stdout",
     "output_type": "stream",
     "text": [
      "d1: 4.0\n",
      "d2: 4.0009999999999994\n",
      "slope: 0.9999999999994458\n"
     ]
    }
   ],
   "source": [
    "h = 0.001\n",
    "\n",
    "# inputs\n",
    "a = 2.0\n",
    "b = -3.0\n",
    "c = 10.0\n",
    "\n",
    "d1 = a*b +c\n",
    "c += h\n",
    "d2 = a*b +c\n",
    "\n",
    "print(\"d1:\",d1)\n",
    "print(\"d2:\",d2)\n",
    "print('slope:',(d2-d1)/h)"
   ]
  },
  {
   "cell_type": "markdown",
   "metadata": {},
   "source": [
    "## 5. starting the core Value object of micrograd and its visualization"
   ]
  },
  {
   "cell_type": "code",
   "execution_count": 104,
   "metadata": {},
   "outputs": [],
   "source": [
    "class Value:\n",
    "  \n",
    "  def __init__(self, data, _children=(), _op='', label=''):\n",
    "    self.data = data\n",
    "    self.grad = 0.0\n",
    "    self._backward = lambda: None\n",
    "    self._prev = set(_children)\n",
    "    self._op = _op\n",
    "    self.label = label\n",
    "\n",
    "  def __repr__(self):\n",
    "    return f\"Value(data={self.data})\"\n",
    "  \n",
    "  def __add__(self, other):\n",
    "    other = other if isinstance(other, Value) else Value(other)\n",
    "    out = Value(self.data + other.data, (self, other), '+')\n",
    "    \n",
    "    def _backward():\n",
    "      self.grad += 1.0 * out.grad\n",
    "      other.grad += 1.0 * out.grad\n",
    "    out._backward = _backward\n",
    "    \n",
    "    return out\n",
    "\n",
    "  def __mul__(self, other):\n",
    "    other = other if isinstance(other, Value) else Value(other)\n",
    "    out = Value(self.data * other.data, (self, other), '*')\n",
    "    \n",
    "    def _backward():\n",
    "      self.grad += other.data * out.grad\n",
    "      other.grad += self.data * out.grad\n",
    "    out._backward = _backward\n",
    "      \n",
    "    return out\n",
    "  \n",
    "  def __pow__(self, other):\n",
    "    assert isinstance(other, (int, float)), \"only supporting int/float powers for now\"\n",
    "    out = Value(self.data**other, (self,), f'**{other}')\n",
    "\n",
    "    def _backward():\n",
    "        self.grad += other * (self.data ** (other - 1)) * out.grad\n",
    "    out._backward = _backward\n",
    "\n",
    "    return out\n",
    "  \n",
    "  def __rmul__(self, other): # other * self\n",
    "    return self * other\n",
    "\n",
    "  def __truediv__(self, other): # self / other\n",
    "    return self * other**-1\n",
    "\n",
    "  def __neg__(self): # -self\n",
    "    return self * -1\n",
    "\n",
    "  def __sub__(self, other): # self - other\n",
    "    return self + (-other)\n",
    "\n",
    "  def __radd__(self, other): # other + self\n",
    "    return self + other\n",
    "\n",
    "  def tanh(self):\n",
    "    x = self.data\n",
    "    t = (math.exp(2*x) - 1)/(math.exp(2*x) + 1)\n",
    "    out = Value(t, (self, ), 'tanh')\n",
    "    \n",
    "    def _backward():\n",
    "      self.grad += (1 - t**2) * out.grad\n",
    "    out._backward = _backward\n",
    "    \n",
    "    return out\n",
    "  \n",
    "  def exp(self):\n",
    "    x = self.data\n",
    "    out = Value(math.exp(x), (self, ), 'exp')\n",
    "    \n",
    "    def _backward():\n",
    "      self.grad += out.data * out.grad # NOTE: in the video I incorrectly used = instead of +=. Fixed here.\n",
    "    out._backward = _backward\n",
    "    \n",
    "    return out\n",
    "  \n",
    "  \n",
    "  def backward(self):\n",
    "    \n",
    "    topo = []\n",
    "    visited = set()\n",
    "    def build_topo(v):\n",
    "      if v not in visited:\n",
    "        visited.add(v)\n",
    "        for child in v._prev:\n",
    "          build_topo(child)\n",
    "        topo.append(v)\n",
    "    build_topo(self)\n",
    "    \n",
    "    self.grad = 1.0\n",
    "    for node in reversed(topo):\n",
    "      node._backward()"
   ]
  },
  {
   "cell_type": "markdown",
   "metadata": {},
   "source": [
    "5. starting the core Value object of micrograd and its visualization"
   ]
  },
  {
   "cell_type": "code",
   "execution_count": 16,
   "metadata": {},
   "outputs": [],
   "source": [
    "from graphviz import Digraph\n",
    "\n",
    "def trace(root):\n",
    "  # builds a set of all nodes and edges in a graph\n",
    "  nodes, edges = set(), set()\n",
    "  def build(v):\n",
    "    if v not in nodes:\n",
    "      nodes.add(v)\n",
    "      for child in v._prev:\n",
    "        edges.add((child, v))\n",
    "        build(child)\n",
    "  build(root)\n",
    "  return nodes, edges\n",
    "\n",
    "def draw_dot(root):\n",
    "  dot = Digraph(format='svg', graph_attr={'rankdir': 'LR'}) # LR = left to right\n",
    "  \n",
    "  nodes, edges = trace(root)\n",
    "  for n in nodes:\n",
    "    uid = str(id(n))\n",
    "    # for any value in the graph, create a rectangular ('record') node for it\n",
    "    dot.node(name = uid, label = \"{ %s | data %.4f | grad %.4f }\" % (n.label, n.data, n.grad), shape='record')\n",
    "    if n._op:\n",
    "      # if this value is a result of some operation, create an op node for it\n",
    "      dot.node(name = uid + n._op, label = n._op)\n",
    "      # and connect this node to it\n",
    "      dot.edge(uid + n._op, uid)\n",
    "\n",
    "  for n1, n2 in edges:\n",
    "    # connect n1 to the op node of n2\n",
    "    dot.edge(str(id(n1)), str(id(n2)) + n2._op)\n",
    "\n",
    "  return dot"
   ]
  },
  {
   "cell_type": "code",
   "execution_count": 17,
   "metadata": {},
   "outputs": [
    {
     "data": {
      "image/svg+xml": [
       "<?xml version=\"1.0\" encoding=\"UTF-8\" standalone=\"no\"?>\n",
       "<!DOCTYPE svg PUBLIC \"-//W3C//DTD SVG 1.1//EN\"\n",
       " \"http://www.w3.org/Graphics/SVG/1.1/DTD/svg11.dtd\">\n",
       "<!-- Generated by graphviz version 9.0.0 (20230911.1827)\n",
       " -->\n",
       "<!-- Pages: 1 -->\n",
       "<svg width=\"1147pt\" height=\"128pt\"\n",
       " viewBox=\"0.00 0.00 1147.25 128.00\" xmlns=\"http://www.w3.org/2000/svg\" xmlns:xlink=\"http://www.w3.org/1999/xlink\">\n",
       "<g id=\"graph0\" class=\"graph\" transform=\"scale(1 1) rotate(0) translate(4 124)\">\n",
       "<polygon fill=\"white\" stroke=\"none\" points=\"-4,4 -4,-124 1143.25,-124 1143.25,4 -4,4\"/>\n",
       "<!-- 1043984840 -->\n",
       "<g id=\"node1\" class=\"node\">\n",
       "<title>1043984840</title>\n",
       "<polygon fill=\"none\" stroke=\"black\" points=\"635.25,-27.5 635.25,-63.5 821.25,-63.5 821.25,-27.5 635.25,-27.5\"/>\n",
       "<text text-anchor=\"middle\" x=\"647\" y=\"-40.2\" font-family=\"Times New Roman,serif\" font-size=\"14.00\">d</text>\n",
       "<polyline fill=\"none\" stroke=\"black\" points=\"658.75,-27.75 658.75,-63.5\"/>\n",
       "<text text-anchor=\"middle\" x=\"699\" y=\"-40.2\" font-family=\"Times New Roman,serif\" font-size=\"14.00\">data 4.0000</text>\n",
       "<polyline fill=\"none\" stroke=\"black\" points=\"739.25,-27.75 739.25,-63.5\"/>\n",
       "<text text-anchor=\"middle\" x=\"780.25\" y=\"-40.2\" font-family=\"Times New Roman,serif\" font-size=\"14.00\">grad 0.0000</text>\n",
       "</g>\n",
       "<!-- 1043984712* -->\n",
       "<g id=\"node5\" class=\"node\">\n",
       "<title>1043984712*</title>\n",
       "<ellipse fill=\"none\" stroke=\"black\" cx=\"885\" cy=\"-72.5\" rx=\"27\" ry=\"18\"/>\n",
       "<text text-anchor=\"middle\" x=\"885\" y=\"-67.08\" font-family=\"Times New Roman,serif\" font-size=\"14.00\">*</text>\n",
       "</g>\n",
       "<!-- 1043984840&#45;&gt;1043984712* -->\n",
       "<g id=\"edge7\" class=\"edge\">\n",
       "<title>1043984840&#45;&gt;1043984712*</title>\n",
       "<path fill=\"none\" stroke=\"black\" d=\"M821.5,-61.6C830.64,-63.19 839.48,-64.73 847.5,-66.13\"/>\n",
       "<polygon fill=\"black\" stroke=\"black\" points=\"846.66,-69.54 857.12,-67.81 847.87,-62.64 846.66,-69.54\"/>\n",
       "</g>\n",
       "<!-- 1043984840+ -->\n",
       "<g id=\"node2\" class=\"node\">\n",
       "<title>1043984840+</title>\n",
       "<ellipse fill=\"none\" stroke=\"black\" cx=\"571.5\" cy=\"-45.5\" rx=\"27\" ry=\"18\"/>\n",
       "<text text-anchor=\"middle\" x=\"571.5\" y=\"-40.08\" font-family=\"Times New Roman,serif\" font-size=\"14.00\">+</text>\n",
       "</g>\n",
       "<!-- 1043984840+&#45;&gt;1043984840 -->\n",
       "<g id=\"edge1\" class=\"edge\">\n",
       "<title>1043984840+&#45;&gt;1043984840</title>\n",
       "<path fill=\"none\" stroke=\"black\" d=\"M598.75,-45.5C606.11,-45.5 614.58,-45.5 623.59,-45.5\"/>\n",
       "<polygon fill=\"black\" stroke=\"black\" points=\"623.3,-49 633.3,-45.5 623.3,-42 623.3,-49\"/>\n",
       "</g>\n",
       "<!-- 1043977992 -->\n",
       "<g id=\"node3\" class=\"node\">\n",
       "<title>1043977992</title>\n",
       "<polygon fill=\"none\" stroke=\"black\" points=\"3,-83.5 3,-119.5 187.5,-119.5 187.5,-83.5 3,-83.5\"/>\n",
       "<text text-anchor=\"middle\" x=\"14\" y=\"-96.2\" font-family=\"Times New Roman,serif\" font-size=\"14.00\">a</text>\n",
       "<polyline fill=\"none\" stroke=\"black\" points=\"25,-83.75 25,-119.5\"/>\n",
       "<text text-anchor=\"middle\" x=\"65.25\" y=\"-96.2\" font-family=\"Times New Roman,serif\" font-size=\"14.00\">data 2.0000</text>\n",
       "<polyline fill=\"none\" stroke=\"black\" points=\"105.5,-83.75 105.5,-119.5\"/>\n",
       "<text text-anchor=\"middle\" x=\"146.5\" y=\"-96.2\" font-family=\"Times New Roman,serif\" font-size=\"14.00\">grad 0.0000</text>\n",
       "</g>\n",
       "<!-- 1043978568* -->\n",
       "<g id=\"node7\" class=\"node\">\n",
       "<title>1043978568*</title>\n",
       "<ellipse fill=\"none\" stroke=\"black\" cx=\"253.5\" cy=\"-73.5\" rx=\"27\" ry=\"18\"/>\n",
       "<text text-anchor=\"middle\" x=\"253.5\" y=\"-68.08\" font-family=\"Times New Roman,serif\" font-size=\"14.00\">*</text>\n",
       "</g>\n",
       "<!-- 1043977992&#45;&gt;1043978568* -->\n",
       "<g id=\"edge8\" class=\"edge\">\n",
       "<title>1043977992&#45;&gt;1043978568*</title>\n",
       "<path fill=\"none\" stroke=\"black\" d=\"M187.59,-85.13C197.51,-83.35 207.14,-81.63 215.8,-80.08\"/>\n",
       "<polygon fill=\"black\" stroke=\"black\" points=\"216.25,-83.55 225.48,-78.34 215.02,-76.66 216.25,-83.55\"/>\n",
       "</g>\n",
       "<!-- 1043984712 -->\n",
       "<g id=\"node4\" class=\"node\">\n",
       "<title>1043984712</title>\n",
       "<polygon fill=\"none\" stroke=\"black\" points=\"948,-54.5 948,-90.5 1139.25,-90.5 1139.25,-54.5 948,-54.5\"/>\n",
       "<text text-anchor=\"middle\" x=\"960.12\" y=\"-67.2\" font-family=\"Times New Roman,serif\" font-size=\"14.00\">L</text>\n",
       "<polyline fill=\"none\" stroke=\"black\" points=\"972.25,-54.75 972.25,-90.5\"/>\n",
       "<text text-anchor=\"middle\" x=\"1014.75\" y=\"-67.2\" font-family=\"Times New Roman,serif\" font-size=\"14.00\">data &#45;8.0000</text>\n",
       "<polyline fill=\"none\" stroke=\"black\" points=\"1057.25,-54.75 1057.25,-90.5\"/>\n",
       "<text text-anchor=\"middle\" x=\"1098.25\" y=\"-67.2\" font-family=\"Times New Roman,serif\" font-size=\"14.00\">grad 0.0000</text>\n",
       "</g>\n",
       "<!-- 1043984712*&#45;&gt;1043984712 -->\n",
       "<g id=\"edge2\" class=\"edge\">\n",
       "<title>1043984712*&#45;&gt;1043984712</title>\n",
       "<path fill=\"none\" stroke=\"black\" d=\"M912.22,-72.5C919.38,-72.5 927.61,-72.5 936.37,-72.5\"/>\n",
       "<polygon fill=\"black\" stroke=\"black\" points=\"936.21,-76 946.21,-72.5 936.21,-69 936.21,-76\"/>\n",
       "</g>\n",
       "<!-- 1043978568 -->\n",
       "<g id=\"node6\" class=\"node\">\n",
       "<title>1043978568</title>\n",
       "<polygon fill=\"none\" stroke=\"black\" points=\"318,-55.5 318,-91.5 507,-91.5 507,-55.5 318,-55.5\"/>\n",
       "<text text-anchor=\"middle\" x=\"329\" y=\"-68.2\" font-family=\"Times New Roman,serif\" font-size=\"14.00\">e</text>\n",
       "<polyline fill=\"none\" stroke=\"black\" points=\"340,-55.75 340,-91.5\"/>\n",
       "<text text-anchor=\"middle\" x=\"382.5\" y=\"-68.2\" font-family=\"Times New Roman,serif\" font-size=\"14.00\">data &#45;6.0000</text>\n",
       "<polyline fill=\"none\" stroke=\"black\" points=\"425,-55.75 425,-91.5\"/>\n",
       "<text text-anchor=\"middle\" x=\"466\" y=\"-68.2\" font-family=\"Times New Roman,serif\" font-size=\"14.00\">grad 0.0000</text>\n",
       "</g>\n",
       "<!-- 1043978568&#45;&gt;1043984840+ -->\n",
       "<g id=\"edge6\" class=\"edge\">\n",
       "<title>1043978568&#45;&gt;1043984840+</title>\n",
       "<path fill=\"none\" stroke=\"black\" d=\"M507.09,-56.81C516.56,-55.12 525.72,-53.49 533.99,-52.01\"/>\n",
       "<polygon fill=\"black\" stroke=\"black\" points=\"534.32,-55.51 543.55,-50.31 533.09,-48.62 534.32,-55.51\"/>\n",
       "</g>\n",
       "<!-- 1043978568*&#45;&gt;1043978568 -->\n",
       "<g id=\"edge3\" class=\"edge\">\n",
       "<title>1043978568*&#45;&gt;1043978568</title>\n",
       "<path fill=\"none\" stroke=\"black\" d=\"M280.78,-73.5C288.29,-73.5 296.96,-73.5 306.2,-73.5\"/>\n",
       "<polygon fill=\"black\" stroke=\"black\" points=\"306.2,-77 316.2,-73.5 306.2,-70 306.2,-77\"/>\n",
       "</g>\n",
       "<!-- 1043978056 -->\n",
       "<g id=\"node8\" class=\"node\">\n",
       "<title>1043978056</title>\n",
       "<polygon fill=\"none\" stroke=\"black\" points=\"0,-28.5 0,-64.5 190.5,-64.5 190.5,-28.5 0,-28.5\"/>\n",
       "<text text-anchor=\"middle\" x=\"11.75\" y=\"-41.2\" font-family=\"Times New Roman,serif\" font-size=\"14.00\">b</text>\n",
       "<polyline fill=\"none\" stroke=\"black\" points=\"23.5,-28.75 23.5,-64.5\"/>\n",
       "<text text-anchor=\"middle\" x=\"66\" y=\"-41.2\" font-family=\"Times New Roman,serif\" font-size=\"14.00\">data &#45;3.0000</text>\n",
       "<polyline fill=\"none\" stroke=\"black\" points=\"108.5,-28.75 108.5,-64.5\"/>\n",
       "<text text-anchor=\"middle\" x=\"149.5\" y=\"-41.2\" font-family=\"Times New Roman,serif\" font-size=\"14.00\">grad 0.0000</text>\n",
       "</g>\n",
       "<!-- 1043978056&#45;&gt;1043978568* -->\n",
       "<g id=\"edge5\" class=\"edge\">\n",
       "<title>1043978056&#45;&gt;1043978568*</title>\n",
       "<path fill=\"none\" stroke=\"black\" d=\"M190.75,-62.83C199.54,-64.35 208.04,-65.82 215.78,-67.15\"/>\n",
       "<polygon fill=\"black\" stroke=\"black\" points=\"214.94,-70.56 225.39,-68.81 216.13,-63.66 214.94,-70.56\"/>\n",
       "</g>\n",
       "<!-- 1043984776 -->\n",
       "<g id=\"node9\" class=\"node\">\n",
       "<title>1043984776</title>\n",
       "<polygon fill=\"none\" stroke=\"black\" points=\"634.5,-82.5 634.5,-118.5 822,-118.5 822,-82.5 634.5,-82.5\"/>\n",
       "<text text-anchor=\"middle\" x=\"644.75\" y=\"-95.2\" font-family=\"Times New Roman,serif\" font-size=\"14.00\">f</text>\n",
       "<polyline fill=\"none\" stroke=\"black\" points=\"655,-82.75 655,-118.5\"/>\n",
       "<text text-anchor=\"middle\" x=\"697.5\" y=\"-95.2\" font-family=\"Times New Roman,serif\" font-size=\"14.00\">data &#45;2.0000</text>\n",
       "<polyline fill=\"none\" stroke=\"black\" points=\"740,-82.75 740,-118.5\"/>\n",
       "<text text-anchor=\"middle\" x=\"781\" y=\"-95.2\" font-family=\"Times New Roman,serif\" font-size=\"14.00\">grad 0.0000</text>\n",
       "</g>\n",
       "<!-- 1043984776&#45;&gt;1043984712* -->\n",
       "<g id=\"edge9\" class=\"edge\">\n",
       "<title>1043984776&#45;&gt;1043984712*</title>\n",
       "<path fill=\"none\" stroke=\"black\" d=\"M822.39,-83.65C831.15,-82.06 839.63,-80.53 847.34,-79.13\"/>\n",
       "<polygon fill=\"black\" stroke=\"black\" points=\"847.71,-82.62 856.93,-77.4 846.46,-75.73 847.71,-82.62\"/>\n",
       "</g>\n",
       "<!-- 1003526600 -->\n",
       "<g id=\"node10\" class=\"node\">\n",
       "<title>1003526600</title>\n",
       "<polygon fill=\"none\" stroke=\"black\" points=\"316.5,-0.5 316.5,-36.5 508.5,-36.5 508.5,-0.5 316.5,-0.5\"/>\n",
       "<text text-anchor=\"middle\" x=\"327.88\" y=\"-13.2\" font-family=\"Times New Roman,serif\" font-size=\"14.00\">c</text>\n",
       "<polyline fill=\"none\" stroke=\"black\" points=\"339.25,-0.75 339.25,-36.5\"/>\n",
       "<text text-anchor=\"middle\" x=\"382.88\" y=\"-13.2\" font-family=\"Times New Roman,serif\" font-size=\"14.00\">data 10.0000</text>\n",
       "<polyline fill=\"none\" stroke=\"black\" points=\"426.5,-0.75 426.5,-36.5\"/>\n",
       "<text text-anchor=\"middle\" x=\"467.5\" y=\"-13.2\" font-family=\"Times New Roman,serif\" font-size=\"14.00\">grad 0.0000</text>\n",
       "</g>\n",
       "<!-- 1003526600&#45;&gt;1043984840+ -->\n",
       "<g id=\"edge4\" class=\"edge\">\n",
       "<title>1003526600&#45;&gt;1043984840+</title>\n",
       "<path fill=\"none\" stroke=\"black\" d=\"M508.9,-34.91C517.58,-36.4 525.97,-37.84 533.62,-39.16\"/>\n",
       "<polygon fill=\"black\" stroke=\"black\" points=\"533.03,-42.61 543.47,-40.85 534.21,-35.71 533.03,-42.61\"/>\n",
       "</g>\n",
       "</g>\n",
       "</svg>\n"
      ],
      "text/plain": [
       "<graphviz.graphs.Digraph at 0x3bde2988>"
      ]
     },
     "execution_count": 17,
     "metadata": {},
     "output_type": "execute_result"
    }
   ],
   "source": [
    "draw_dot(L)"
   ]
  },
  {
   "cell_type": "code",
   "execution_count": 18,
   "metadata": {},
   "outputs": [
    {
     "name": "stdout",
     "output_type": "stream",
     "text": [
      "-8.0\n"
     ]
    }
   ],
   "source": [
    "a.data += 0.01 * a.grad\n",
    "b.data += 0.01 * b.grad\n",
    "c.data += 0.01 * c.grad\n",
    "f.data += 0.01 * f.grad\n",
    "\n",
    "e = a * b\n",
    "d = e + c  \n",
    "L = d * f\n",
    "\n",
    "print(L.data)"
   ]
  },
  {
   "cell_type": "code",
   "execution_count": 20,
   "metadata": {},
   "outputs": [
    {
     "name": "stdout",
     "output_type": "stream",
     "text": [
      "-3.9999999999995595\n"
     ]
    }
   ],
   "source": [
    "def lol():\n",
    "    h = 0.001\n",
    "    a = Value(2.0,label='a')\n",
    "    b = Value(-3.0,label='b')\n",
    "    c = Value(10.0,label='c')\n",
    "    e = a*b; e.label = 'e'\n",
    "    d = e+c;d.label = 'd'\n",
    "    f = Value(-2.0,label='f')\n",
    "    L = d*f; L.label = 'L'\n",
    "    L1 = L.data\n",
    "\n",
    "    a = Value(2.0, label='a')\n",
    "    b = Value(-3.0, label='b')\n",
    "    b.data += h\n",
    "    c = Value(10.0, label='c')\n",
    "    e = a*b; e.label = 'e'\n",
    "    d = e + c; d.label = 'd'\n",
    "    f = Value(-2.0, label='f')\n",
    "    L = d * f; L.label = 'L'\n",
    "    L2 = L.data\n",
    "\n",
    "    print((L2-L1)/h)\n",
    "\n",
    "lol()\n",
    "\n",
    "    "
   ]
  },
  {
   "cell_type": "code",
   "execution_count": 24,
   "metadata": {},
   "outputs": [
    {
     "data": {
      "image/png": "[encoded data removed]",
      "text/plain": [
       "<Figure size 640x480 with 1 Axes>"
      ]
     },
     "metadata": {},
     "output_type": "display_data"
    }
   ],
   "source": [
    "plt.plot(np.arange(-5,5,0.25), np.tanh(np.arange(-5,5,0.25))); plt.grid();"
   ]
  },
  {
   "cell_type": "code",
   "execution_count": 25,
   "metadata": {},
   "outputs": [],
   "source": [
    "# 2 inputs x1 and x2\n",
    "x1 = Value(2.0,label='x1')\n",
    "x2 = Value(0.0,label='x2')\n",
    "# weights w1 and w2\n",
    "w1 = Value(-3.0,label='w1')\n",
    "w2 = Value(1.0,label = 'w2')\n",
    "# Bias of neuron\n",
    "b = Value(6.8814154151,label='b')\n",
    "# x1w1 + x2w2 + b\n",
    "x1w1 = x1*w1; x1w1.label = 'x1*w1'\n",
    "x2w2 = x2*w2; x2w2.label = 'x2*w2'\n",
    "\n",
    "x1w1x2w2 = x1w1 * x2w2; x1w1x2w2.label = 'x1*w1 +x2w2'\n",
    "n = x1w1x2w2 +b; n.label = 'n'\n",
    "o = n.tanh(); o.label = 'o'"
   ]
  },
  {
   "cell_type": "code",
   "execution_count": 26,
   "metadata": {},
   "outputs": [
    {
     "data": {
      "image/svg+xml": [
       "<?xml version=\"1.0\" encoding=\"UTF-8\" standalone=\"no\"?>\n",
       "<!DOCTYPE svg PUBLIC \"-//W3C//DTD SVG 1.1//EN\"\n",
       " \"http://www.w3.org/Graphics/SVG/1.1/DTD/svg11.dtd\">\n",
       "<!-- Generated by graphviz version 9.0.0 (20230911.1827)\n",
       " -->\n",
       "<!-- Pages: 1 -->\n",
       "<svg width=\"1564pt\" height=\"210pt\"\n",
       " viewBox=\"0.00 0.00 1564.25 210.00\" xmlns=\"http://www.w3.org/2000/svg\" xmlns:xlink=\"http://www.w3.org/1999/xlink\">\n",
       "<g id=\"graph0\" class=\"graph\" transform=\"scale(1 1) rotate(0) translate(4 206)\">\n",
       "<polygon fill=\"white\" stroke=\"none\" points=\"-4,4 -4,-206 1560.25,-206 1560.25,4 -4,4\"/>\n",
       "<!-- 1041568264 -->\n",
       "<g id=\"node1\" class=\"node\">\n",
       "<title>1041568264</title>\n",
       "<polygon fill=\"none\" stroke=\"black\" points=\"2.25,-165.5 2.25,-201.5 197.25,-201.5 197.25,-165.5 2.25,-165.5\"/>\n",
       "<text text-anchor=\"middle\" x=\"18.5\" y=\"-178.2\" font-family=\"Times New Roman,serif\" font-size=\"14.00\">w2</text>\n",
       "<polyline fill=\"none\" stroke=\"black\" points=\"34.75,-165.75 34.75,-201.5\"/>\n",
       "<text text-anchor=\"middle\" x=\"75\" y=\"-178.2\" font-family=\"Times New Roman,serif\" font-size=\"14.00\">data 1.0000</text>\n",
       "<polyline fill=\"none\" stroke=\"black\" points=\"115.25,-165.75 115.25,-201.5\"/>\n",
       "<text text-anchor=\"middle\" x=\"156.25\" y=\"-178.2\" font-family=\"Times New Roman,serif\" font-size=\"14.00\">grad 0.0000</text>\n",
       "</g>\n",
       "<!-- 1040855112* -->\n",
       "<g id=\"node4\" class=\"node\">\n",
       "<title>1040855112*</title>\n",
       "<ellipse fill=\"none\" stroke=\"black\" cx=\"262.5\" cy=\"-128.5\" rx=\"27\" ry=\"18\"/>\n",
       "<text text-anchor=\"middle\" x=\"262.5\" y=\"-123.08\" font-family=\"Times New Roman,serif\" font-size=\"14.00\">*</text>\n",
       "</g>\n",
       "<!-- 1041568264&#45;&gt;1040855112* -->\n",
       "<g id=\"edge8\" class=\"edge\">\n",
       "<title>1041568264&#45;&gt;1040855112*</title>\n",
       "<path fill=\"none\" stroke=\"black\" d=\"M173.43,-165.03C182.28,-162.37 191.14,-159.51 199.5,-156.5 209.59,-152.87 220.33,-148.29 229.98,-143.89\"/>\n",
       "<polygon fill=\"black\" stroke=\"black\" points=\"231.37,-147.1 238.95,-139.7 228.41,-140.76 231.37,-147.1\"/>\n",
       "</g>\n",
       "<!-- 1040856072 -->\n",
       "<g id=\"node2\" class=\"node\">\n",
       "<title>1040856072</title>\n",
       "<polygon fill=\"none\" stroke=\"black\" points=\"709.12,-27.5 709.12,-63.5 895.12,-63.5 895.12,-27.5 709.12,-27.5\"/>\n",
       "<text text-anchor=\"middle\" x=\"720.88\" y=\"-40.2\" font-family=\"Times New Roman,serif\" font-size=\"14.00\">b</text>\n",
       "<polyline fill=\"none\" stroke=\"black\" points=\"732.62,-27.75 732.62,-63.5\"/>\n",
       "<text text-anchor=\"middle\" x=\"772.88\" y=\"-40.2\" font-family=\"Times New Roman,serif\" font-size=\"14.00\">data 6.8814</text>\n",
       "<polyline fill=\"none\" stroke=\"black\" points=\"813.12,-27.75 813.12,-63.5\"/>\n",
       "<text text-anchor=\"middle\" x=\"854.12\" y=\"-40.2\" font-family=\"Times New Roman,serif\" font-size=\"14.00\">grad 0.0000</text>\n",
       "</g>\n",
       "<!-- 1040856008+ -->\n",
       "<g id=\"node6\" class=\"node\">\n",
       "<title>1040856008+</title>\n",
       "<ellipse fill=\"none\" stroke=\"black\" cx=\"996\" cy=\"-72.5\" rx=\"27\" ry=\"18\"/>\n",
       "<text text-anchor=\"middle\" x=\"996\" y=\"-67.08\" font-family=\"Times New Roman,serif\" font-size=\"14.00\">+</text>\n",
       "</g>\n",
       "<!-- 1040856072&#45;&gt;1040856008+ -->\n",
       "<g id=\"edge14\" class=\"edge\">\n",
       "<title>1040856072&#45;&gt;1040856008+</title>\n",
       "<path fill=\"none\" stroke=\"black\" d=\"M895.41,-58.49C917.51,-61.6 939.87,-64.74 957.79,-67.26\"/>\n",
       "<polygon fill=\"black\" stroke=\"black\" points=\"957.27,-70.72 967.66,-68.65 958.24,-63.79 957.27,-70.72\"/>\n",
       "</g>\n",
       "<!-- 1040855112 -->\n",
       "<g id=\"node3\" class=\"node\">\n",
       "<title>1040855112</title>\n",
       "<polygon fill=\"none\" stroke=\"black\" points=\"327.75,-110.5 327.75,-146.5 543,-146.5 543,-110.5 327.75,-110.5\"/>\n",
       "<text text-anchor=\"middle\" x=\"354.12\" y=\"-123.2\" font-family=\"Times New Roman,serif\" font-size=\"14.00\">x2*w2</text>\n",
       "<polyline fill=\"none\" stroke=\"black\" points=\"380.5,-110.75 380.5,-146.5\"/>\n",
       "<text text-anchor=\"middle\" x=\"420.75\" y=\"-123.2\" font-family=\"Times New Roman,serif\" font-size=\"14.00\">data 0.0000</text>\n",
       "<polyline fill=\"none\" stroke=\"black\" points=\"461,-110.75 461,-146.5\"/>\n",
       "<text text-anchor=\"middle\" x=\"502\" y=\"-123.2\" font-family=\"Times New Roman,serif\" font-size=\"14.00\">grad 0.0000</text>\n",
       "</g>\n",
       "<!-- 1040855816* -->\n",
       "<g id=\"node10\" class=\"node\">\n",
       "<title>1040855816*</title>\n",
       "<ellipse fill=\"none\" stroke=\"black\" cx=\"608.25\" cy=\"-100.5\" rx=\"27\" ry=\"18\"/>\n",
       "<text text-anchor=\"middle\" x=\"608.25\" y=\"-95.08\" font-family=\"Times New Roman,serif\" font-size=\"14.00\">*</text>\n",
       "</g>\n",
       "<!-- 1040855112&#45;&gt;1040855816* -->\n",
       "<g id=\"edge10\" class=\"edge\">\n",
       "<title>1040855112&#45;&gt;1040855816*</title>\n",
       "<path fill=\"none\" stroke=\"black\" d=\"M543.14,-111.01C552.86,-109.41 562.18,-107.88 570.57,-106.51\"/>\n",
       "<polygon fill=\"black\" stroke=\"black\" points=\"570.94,-110 580.25,-104.92 569.81,-103.09 570.94,-110\"/>\n",
       "</g>\n",
       "<!-- 1040855112*&#45;&gt;1040855112 -->\n",
       "<g id=\"edge1\" class=\"edge\">\n",
       "<title>1040855112*&#45;&gt;1040855112</title>\n",
       "<path fill=\"none\" stroke=\"black\" d=\"M289.82,-128.5C297.5,-128.5 306.41,-128.5 315.98,-128.5\"/>\n",
       "<polygon fill=\"black\" stroke=\"black\" points=\"315.97,-132 325.97,-128.5 315.97,-125 315.97,-132\"/>\n",
       "</g>\n",
       "<!-- 1040856008 -->\n",
       "<g id=\"node5\" class=\"node\">\n",
       "<title>1040856008</title>\n",
       "<polygon fill=\"none\" stroke=\"black\" points=\"1059,-54.5 1059,-90.5 1244.25,-90.5 1244.25,-54.5 1059,-54.5\"/>\n",
       "<text text-anchor=\"middle\" x=\"1070.38\" y=\"-67.2\" font-family=\"Times New Roman,serif\" font-size=\"14.00\">n</text>\n",
       "<polyline fill=\"none\" stroke=\"black\" points=\"1081.75,-54.75 1081.75,-90.5\"/>\n",
       "<text text-anchor=\"middle\" x=\"1122\" y=\"-67.2\" font-family=\"Times New Roman,serif\" font-size=\"14.00\">data 6.8814</text>\n",
       "<polyline fill=\"none\" stroke=\"black\" points=\"1162.25,-54.75 1162.25,-90.5\"/>\n",
       "<text text-anchor=\"middle\" x=\"1203.25\" y=\"-67.2\" font-family=\"Times New Roman,serif\" font-size=\"14.00\">grad 0.0000</text>\n",
       "</g>\n",
       "<!-- 1040858440tanh -->\n",
       "<g id=\"node13\" class=\"node\">\n",
       "<title>1040858440tanh</title>\n",
       "<ellipse fill=\"none\" stroke=\"black\" cx=\"1307.25\" cy=\"-72.5\" rx=\"27\" ry=\"18\"/>\n",
       "<text text-anchor=\"middle\" x=\"1307.25\" y=\"-67.08\" font-family=\"Times New Roman,serif\" font-size=\"14.00\">tanh</text>\n",
       "</g>\n",
       "<!-- 1040856008&#45;&gt;1040858440tanh -->\n",
       "<g id=\"edge11\" class=\"edge\">\n",
       "<title>1040856008&#45;&gt;1040858440tanh</title>\n",
       "<path fill=\"none\" stroke=\"black\" d=\"M1244.65,-72.5C1253.02,-72.5 1261.14,-72.5 1268.59,-72.5\"/>\n",
       "<polygon fill=\"black\" stroke=\"black\" points=\"1268.53,-76 1278.53,-72.5 1268.53,-69 1268.53,-76\"/>\n",
       "</g>\n",
       "<!-- 1040856008+&#45;&gt;1040856008 -->\n",
       "<g id=\"edge2\" class=\"edge\">\n",
       "<title>1040856008+&#45;&gt;1040856008</title>\n",
       "<path fill=\"none\" stroke=\"black\" d=\"M1023.41,-72.5C1030.45,-72.5 1038.5,-72.5 1047.05,-72.5\"/>\n",
       "<polygon fill=\"black\" stroke=\"black\" points=\"1047.04,-76 1057.04,-72.5 1047.04,-69 1047.04,-76\"/>\n",
       "</g>\n",
       "<!-- 1041567880 -->\n",
       "<g id=\"node7\" class=\"node\">\n",
       "<title>1041567880</title>\n",
       "<polygon fill=\"none\" stroke=\"black\" points=\"0,-55.5 0,-91.5 199.5,-91.5 199.5,-55.5 0,-55.5\"/>\n",
       "<text text-anchor=\"middle\" x=\"16.25\" y=\"-68.2\" font-family=\"Times New Roman,serif\" font-size=\"14.00\">w1</text>\n",
       "<polyline fill=\"none\" stroke=\"black\" points=\"32.5,-55.75 32.5,-91.5\"/>\n",
       "<text text-anchor=\"middle\" x=\"75\" y=\"-68.2\" font-family=\"Times New Roman,serif\" font-size=\"14.00\">data &#45;3.0000</text>\n",
       "<polyline fill=\"none\" stroke=\"black\" points=\"117.5,-55.75 117.5,-91.5\"/>\n",
       "<text text-anchor=\"middle\" x=\"158.5\" y=\"-68.2\" font-family=\"Times New Roman,serif\" font-size=\"14.00\">grad 0.0000</text>\n",
       "</g>\n",
       "<!-- 1040858568* -->\n",
       "<g id=\"node15\" class=\"node\">\n",
       "<title>1040858568*</title>\n",
       "<ellipse fill=\"none\" stroke=\"black\" cx=\"262.5\" cy=\"-73.5\" rx=\"27\" ry=\"18\"/>\n",
       "<text text-anchor=\"middle\" x=\"262.5\" y=\"-68.08\" font-family=\"Times New Roman,serif\" font-size=\"14.00\">*</text>\n",
       "</g>\n",
       "<!-- 1041567880&#45;&gt;1040858568* -->\n",
       "<g id=\"edge12\" class=\"edge\">\n",
       "<title>1041567880&#45;&gt;1040858568*</title>\n",
       "<path fill=\"none\" stroke=\"black\" d=\"M199.81,-73.5C208.19,-73.5 216.28,-73.5 223.69,-73.5\"/>\n",
       "<polygon fill=\"black\" stroke=\"black\" points=\"223.58,-77 233.58,-73.5 223.58,-70 223.58,-77\"/>\n",
       "</g>\n",
       "<!-- 1041567944 -->\n",
       "<g id=\"node8\" class=\"node\">\n",
       "<title>1041567944</title>\n",
       "<polygon fill=\"none\" stroke=\"black\" points=\"3.75,-0.5 3.75,-36.5 195.75,-36.5 195.75,-0.5 3.75,-0.5\"/>\n",
       "<text text-anchor=\"middle\" x=\"18.5\" y=\"-13.2\" font-family=\"Times New Roman,serif\" font-size=\"14.00\">x1</text>\n",
       "<polyline fill=\"none\" stroke=\"black\" points=\"33.25,-0.75 33.25,-36.5\"/>\n",
       "<text text-anchor=\"middle\" x=\"73.5\" y=\"-13.2\" font-family=\"Times New Roman,serif\" font-size=\"14.00\">data 2.0000</text>\n",
       "<polyline fill=\"none\" stroke=\"black\" points=\"113.75,-0.75 113.75,-36.5\"/>\n",
       "<text text-anchor=\"middle\" x=\"154.75\" y=\"-13.2\" font-family=\"Times New Roman,serif\" font-size=\"14.00\">grad 0.0000</text>\n",
       "</g>\n",
       "<!-- 1041567944&#45;&gt;1040858568* -->\n",
       "<g id=\"edge13\" class=\"edge\">\n",
       "<title>1041567944&#45;&gt;1040858568*</title>\n",
       "<path fill=\"none\" stroke=\"black\" d=\"M170.45,-36.99C180.27,-39.97 190.19,-43.17 199.5,-46.5 209.46,-50.06 220.09,-54.46 229.68,-58.67\"/>\n",
       "<polygon fill=\"black\" stroke=\"black\" points=\"228.04,-61.77 238.6,-62.66 230.9,-55.38 228.04,-61.77\"/>\n",
       "</g>\n",
       "<!-- 1040855816 -->\n",
       "<g id=\"node9\" class=\"node\">\n",
       "<title>1040855816</title>\n",
       "<polygon fill=\"none\" stroke=\"black\" points=\"671.25,-82.5 671.25,-118.5 933,-118.5 933,-82.5 671.25,-82.5\"/>\n",
       "<text text-anchor=\"middle\" x=\"718.62\" y=\"-95.2\" font-family=\"Times New Roman,serif\" font-size=\"14.00\">x1*w1 +x2w2</text>\n",
       "<polyline fill=\"none\" stroke=\"black\" points=\"766,-82.75 766,-118.5\"/>\n",
       "<text text-anchor=\"middle\" x=\"808.5\" y=\"-95.2\" font-family=\"Times New Roman,serif\" font-size=\"14.00\">data &#45;0.0000</text>\n",
       "<polyline fill=\"none\" stroke=\"black\" points=\"851,-82.75 851,-118.5\"/>\n",
       "<text text-anchor=\"middle\" x=\"892\" y=\"-95.2\" font-family=\"Times New Roman,serif\" font-size=\"14.00\">grad 0.0000</text>\n",
       "</g>\n",
       "<!-- 1040855816&#45;&gt;1040856008+ -->\n",
       "<g id=\"edge9\" class=\"edge\">\n",
       "<title>1040855816&#45;&gt;1040856008+</title>\n",
       "<path fill=\"none\" stroke=\"black\" d=\"M929.77,-82.02C939.85,-80.55 949.42,-79.15 957.97,-77.9\"/>\n",
       "<polygon fill=\"black\" stroke=\"black\" points=\"958.44,-81.37 967.83,-76.46 957.43,-74.45 958.44,-81.37\"/>\n",
       "</g>\n",
       "<!-- 1040855816*&#45;&gt;1040855816 -->\n",
       "<g id=\"edge3\" class=\"edge\">\n",
       "<title>1040855816*&#45;&gt;1040855816</title>\n",
       "<path fill=\"none\" stroke=\"black\" d=\"M635.53,-100.5C642.68,-100.5 650.95,-100.5 659.9,-100.5\"/>\n",
       "<polygon fill=\"black\" stroke=\"black\" points=\"659.62,-104 669.62,-100.5 659.62,-97 659.62,-104\"/>\n",
       "</g>\n",
       "<!-- 1041568008 -->\n",
       "<g id=\"node11\" class=\"node\">\n",
       "<title>1041568008</title>\n",
       "<polygon fill=\"none\" stroke=\"black\" points=\"3.75,-110.5 3.75,-146.5 195.75,-146.5 195.75,-110.5 3.75,-110.5\"/>\n",
       "<text text-anchor=\"middle\" x=\"18.5\" y=\"-123.2\" font-family=\"Times New Roman,serif\" font-size=\"14.00\">x2</text>\n",
       "<polyline fill=\"none\" stroke=\"black\" points=\"33.25,-110.75 33.25,-146.5\"/>\n",
       "<text text-anchor=\"middle\" x=\"73.5\" y=\"-123.2\" font-family=\"Times New Roman,serif\" font-size=\"14.00\">data 0.0000</text>\n",
       "<polyline fill=\"none\" stroke=\"black\" points=\"113.75,-110.75 113.75,-146.5\"/>\n",
       "<text text-anchor=\"middle\" x=\"154.75\" y=\"-123.2\" font-family=\"Times New Roman,serif\" font-size=\"14.00\">grad 0.0000</text>\n",
       "</g>\n",
       "<!-- 1041568008&#45;&gt;1040855112* -->\n",
       "<g id=\"edge7\" class=\"edge\">\n",
       "<title>1041568008&#45;&gt;1040855112*</title>\n",
       "<path fill=\"none\" stroke=\"black\" d=\"M196.12,-128.5C205.86,-128.5 215.3,-128.5 223.83,-128.5\"/>\n",
       "<polygon fill=\"black\" stroke=\"black\" points=\"223.71,-132 233.71,-128.5 223.71,-125 223.71,-132\"/>\n",
       "</g>\n",
       "<!-- 1040858440 -->\n",
       "<g id=\"node12\" class=\"node\">\n",
       "<title>1040858440</title>\n",
       "<polygon fill=\"none\" stroke=\"black\" points=\"1370.25,-54.5 1370.25,-90.5 1556.25,-90.5 1556.25,-54.5 1370.25,-54.5\"/>\n",
       "<text text-anchor=\"middle\" x=\"1382\" y=\"-67.2\" font-family=\"Times New Roman,serif\" font-size=\"14.00\">o</text>\n",
       "<polyline fill=\"none\" stroke=\"black\" points=\"1393.75,-54.75 1393.75,-90.5\"/>\n",
       "<text text-anchor=\"middle\" x=\"1434\" y=\"-67.2\" font-family=\"Times New Roman,serif\" font-size=\"14.00\">data 1.0000</text>\n",
       "<polyline fill=\"none\" stroke=\"black\" points=\"1474.25,-54.75 1474.25,-90.5\"/>\n",
       "<text text-anchor=\"middle\" x=\"1515.25\" y=\"-67.2\" font-family=\"Times New Roman,serif\" font-size=\"14.00\">grad 0.0000</text>\n",
       "</g>\n",
       "<!-- 1040858440tanh&#45;&gt;1040858440 -->\n",
       "<g id=\"edge4\" class=\"edge\">\n",
       "<title>1040858440tanh&#45;&gt;1040858440</title>\n",
       "<path fill=\"none\" stroke=\"black\" d=\"M1334.72,-72.5C1341.86,-72.5 1350.03,-72.5 1358.71,-72.5\"/>\n",
       "<polygon fill=\"black\" stroke=\"black\" points=\"1358.44,-76 1368.44,-72.5 1358.44,-69 1358.44,-76\"/>\n",
       "</g>\n",
       "<!-- 1040858568 -->\n",
       "<g id=\"node14\" class=\"node\">\n",
       "<title>1040858568</title>\n",
       "<polygon fill=\"none\" stroke=\"black\" points=\"325.5,-55.5 325.5,-91.5 545.25,-91.5 545.25,-55.5 325.5,-55.5\"/>\n",
       "<text text-anchor=\"middle\" x=\"351.88\" y=\"-68.2\" font-family=\"Times New Roman,serif\" font-size=\"14.00\">x1*w1</text>\n",
       "<polyline fill=\"none\" stroke=\"black\" points=\"378.25,-55.75 378.25,-91.5\"/>\n",
       "<text text-anchor=\"middle\" x=\"420.75\" y=\"-68.2\" font-family=\"Times New Roman,serif\" font-size=\"14.00\">data &#45;6.0000</text>\n",
       "<polyline fill=\"none\" stroke=\"black\" points=\"463.25,-55.75 463.25,-91.5\"/>\n",
       "<text text-anchor=\"middle\" x=\"504.25\" y=\"-68.2\" font-family=\"Times New Roman,serif\" font-size=\"14.00\">grad 0.0000</text>\n",
       "</g>\n",
       "<!-- 1040858568&#45;&gt;1040855816* -->\n",
       "<g id=\"edge6\" class=\"edge\">\n",
       "<title>1040858568&#45;&gt;1040855816*</title>\n",
       "<path fill=\"none\" stroke=\"black\" d=\"M545.56,-90.75C554.32,-92.14 562.71,-93.46 570.34,-94.67\"/>\n",
       "<polygon fill=\"black\" stroke=\"black\" points=\"569.7,-98.11 580.13,-96.21 570.8,-91.2 569.7,-98.11\"/>\n",
       "</g>\n",
       "<!-- 1040858568*&#45;&gt;1040858568 -->\n",
       "<g id=\"edge5\" class=\"edge\">\n",
       "<title>1040858568*&#45;&gt;1040858568</title>\n",
       "<path fill=\"none\" stroke=\"black\" d=\"M289.82,-73.5C296.93,-73.5 305.11,-73.5 313.89,-73.5\"/>\n",
       "<polygon fill=\"black\" stroke=\"black\" points=\"313.78,-77 323.78,-73.5 313.78,-70 313.78,-77\"/>\n",
       "</g>\n",
       "</g>\n",
       "</svg>\n"
      ],
      "text/plain": [
       "<graphviz.graphs.Digraph at 0x3e0cddc8>"
      ]
     },
     "execution_count": 26,
     "metadata": {},
     "output_type": "execute_result"
    }
   ],
   "source": [
    "draw_dot(o)"
   ]
  },
  {
   "cell_type": "code",
   "execution_count": 27,
   "metadata": {},
   "outputs": [],
   "source": [
    "o.backward()"
   ]
  },
  {
   "cell_type": "code",
   "execution_count": 28,
   "metadata": {},
   "outputs": [
    {
     "data": {
      "text/plain": [
       "[Value(data= -3.0),\n",
       " Value(data= 2.0),\n",
       " Value(data= -6.0),\n",
       " Value(data= 0.0),\n",
       " Value(data= 1.0),\n",
       " Value(data= 0.0),\n",
       " Value(data= -0.0),\n",
       " Value(data= 6.8814154151),\n",
       " Value(data= 6.8814154151),\n",
       " Value(data= 0.999997891818233)]"
      ]
     },
     "execution_count": 28,
     "metadata": {},
     "output_type": "execute_result"
    }
   ],
   "source": [
    "topo = []\n",
    "visited = set()\n",
    "def build_topo(v):\n",
    "    if v not in visited:\n",
    "        visited.add(v)\n",
    "        for child in v._prev:\n",
    "            build_topo(child)\n",
    "        topo.append(v)\n",
    "build_topo(o)\n",
    "topo"
   ]
  },
  {
   "cell_type": "code",
   "execution_count": 29,
   "metadata": {},
   "outputs": [],
   "source": [
    "o.grad = 1.0"
   ]
  },
  {
   "cell_type": "code",
   "execution_count": 31,
   "metadata": {},
   "outputs": [],
   "source": [
    "o._backward()"
   ]
  },
  {
   "cell_type": "code",
   "execution_count": 32,
   "metadata": {},
   "outputs": [],
   "source": [
    "n._backward()"
   ]
  },
  {
   "cell_type": "code",
   "execution_count": 33,
   "metadata": {},
   "outputs": [],
   "source": [
    "b._backward()"
   ]
  },
  {
   "cell_type": "code",
   "execution_count": 34,
   "metadata": {},
   "outputs": [],
   "source": [
    "x1w1x2w2._backward()"
   ]
  },
  {
   "cell_type": "code",
   "execution_count": 35,
   "metadata": {},
   "outputs": [],
   "source": [
    "x2w2._backward()\n",
    "x1w1._backward()"
   ]
  },
  {
   "cell_type": "code",
   "execution_count": 36,
   "metadata": {},
   "outputs": [],
   "source": [
    "x1.grad = w1.data * x1w1.grad\n",
    "w1.grad = x1.data * x1w1.grad"
   ]
  },
  {
   "cell_type": "code",
   "execution_count": 37,
   "metadata": {},
   "outputs": [],
   "source": [
    "x2.grad = w2.data * x2w2.grad\n",
    "w2.grad = x2.data * x2w2.grad"
   ]
  },
  {
   "cell_type": "code",
   "execution_count": 38,
   "metadata": {},
   "outputs": [],
   "source": [
    "x1w1.grad = 0.5\n",
    "x2w2.grad = 0.5"
   ]
  },
  {
   "cell_type": "code",
   "execution_count": 39,
   "metadata": {},
   "outputs": [],
   "source": [
    "x1w1x2w2.grad = 0.5\n",
    "b.grad = 0.5"
   ]
  },
  {
   "cell_type": "code",
   "execution_count": 40,
   "metadata": {},
   "outputs": [],
   "source": [
    "n.grad = 0.5"
   ]
  },
  {
   "cell_type": "code",
   "execution_count": 41,
   "metadata": {},
   "outputs": [],
   "source": [
    "o.grad = 1.0"
   ]
  },
  {
   "cell_type": "code",
   "execution_count": 42,
   "metadata": {},
   "outputs": [
    {
     "data": {
      "text/plain": [
       "4.216359089648236e-06"
      ]
     },
     "execution_count": 42,
     "metadata": {},
     "output_type": "execute_result"
    }
   ],
   "source": [
    "1 - o.data**2"
   ]
  },
  {
   "cell_type": "code",
   "execution_count": 43,
   "metadata": {},
   "outputs": [
    {
     "data": {
      "image/svg+xml": [
       "<?xml version=\"1.0\" encoding=\"UTF-8\" standalone=\"no\"?>\n",
       "<!DOCTYPE svg PUBLIC \"-//W3C//DTD SVG 1.1//EN\"\n",
       " \"http://www.w3.org/Graphics/SVG/1.1/DTD/svg11.dtd\">\n",
       "<!-- Generated by graphviz version 9.0.0 (20230911.1827)\n",
       " -->\n",
       "<!-- Pages: 1 -->\n",
       "<svg width=\"505pt\" height=\"45pt\"\n",
       " viewBox=\"0.00 0.00 504.50 45.00\" xmlns=\"http://www.w3.org/2000/svg\" xmlns:xlink=\"http://www.w3.org/1999/xlink\">\n",
       "<g id=\"graph0\" class=\"graph\" transform=\"scale(1 1) rotate(0) translate(4 41)\">\n",
       "<polygon fill=\"white\" stroke=\"none\" points=\"-4,4 -4,-41 500.5,-41 500.5,4 -4,4\"/>\n",
       "<!-- 1042744776 -->\n",
       "<g id=\"node1\" class=\"node\">\n",
       "<title>1042744776</title>\n",
       "<polygon fill=\"none\" stroke=\"black\" points=\"310.5,-0.5 310.5,-36.5 496.5,-36.5 496.5,-0.5 310.5,-0.5\"/>\n",
       "<text text-anchor=\"middle\" x=\"322.25\" y=\"-13.2\" font-family=\"Times New Roman,serif\" font-size=\"14.00\">b</text>\n",
       "<polyline fill=\"none\" stroke=\"black\" points=\"334,-0.75 334,-36.5\"/>\n",
       "<text text-anchor=\"middle\" x=\"374.25\" y=\"-13.2\" font-family=\"Times New Roman,serif\" font-size=\"14.00\">data 6.0000</text>\n",
       "<polyline fill=\"none\" stroke=\"black\" points=\"414.5,-0.75 414.5,-36.5\"/>\n",
       "<text text-anchor=\"middle\" x=\"455.5\" y=\"-13.2\" font-family=\"Times New Roman,serif\" font-size=\"14.00\">grad 0.0000</text>\n",
       "</g>\n",
       "<!-- 1042744776+ -->\n",
       "<g id=\"node2\" class=\"node\">\n",
       "<title>1042744776+</title>\n",
       "<ellipse fill=\"none\" stroke=\"black\" cx=\"247.5\" cy=\"-18.5\" rx=\"27\" ry=\"18\"/>\n",
       "<text text-anchor=\"middle\" x=\"247.5\" y=\"-13.07\" font-family=\"Times New Roman,serif\" font-size=\"14.00\">+</text>\n",
       "</g>\n",
       "<!-- 1042744776+&#45;&gt;1042744776 -->\n",
       "<g id=\"edge1\" class=\"edge\">\n",
       "<title>1042744776+&#45;&gt;1042744776</title>\n",
       "<path fill=\"none\" stroke=\"black\" d=\"M274.97,-18.5C282.11,-18.5 290.28,-18.5 298.96,-18.5\"/>\n",
       "<polygon fill=\"black\" stroke=\"black\" points=\"298.69,-22 308.69,-18.5 298.69,-15 298.69,-22\"/>\n",
       "</g>\n",
       "<!-- 1042743880 -->\n",
       "<g id=\"node3\" class=\"node\">\n",
       "<title>1042743880</title>\n",
       "<polygon fill=\"none\" stroke=\"black\" points=\"0,-0.5 0,-36.5 184.5,-36.5 184.5,-0.5 0,-0.5\"/>\n",
       "<text text-anchor=\"middle\" x=\"11\" y=\"-13.2\" font-family=\"Times New Roman,serif\" font-size=\"14.00\">a</text>\n",
       "<polyline fill=\"none\" stroke=\"black\" points=\"22,-0.75 22,-36.5\"/>\n",
       "<text text-anchor=\"middle\" x=\"62.25\" y=\"-13.2\" font-family=\"Times New Roman,serif\" font-size=\"14.00\">data 3.0000</text>\n",
       "<polyline fill=\"none\" stroke=\"black\" points=\"102.5,-0.75 102.5,-36.5\"/>\n",
       "<text text-anchor=\"middle\" x=\"143.5\" y=\"-13.2\" font-family=\"Times New Roman,serif\" font-size=\"14.00\">grad 0.0000</text>\n",
       "</g>\n",
       "<!-- 1042743880&#45;&gt;1042744776+ -->\n",
       "<g id=\"edge2\" class=\"edge\">\n",
       "<title>1042743880&#45;&gt;1042744776+</title>\n",
       "<path fill=\"none\" stroke=\"black\" d=\"M184.61,-18.5C193.01,-18.5 201.16,-18.5 208.64,-18.5\"/>\n",
       "<polygon fill=\"black\" stroke=\"black\" points=\"208.64,-22 218.64,-18.5 208.64,-15 208.64,-22\"/>\n",
       "</g>\n",
       "</g>\n",
       "</svg>\n"
      ],
      "text/plain": [
       "<graphviz.graphs.Digraph at 0x3e270308>"
      ]
     },
     "execution_count": 43,
     "metadata": {},
     "output_type": "execute_result"
    }
   ],
   "source": [
    "a = Value(3.0, label='a')\n",
    "b = a + a   ; b.label = 'b'\n",
    "b.backward()\n",
    "draw_dot(b)"
   ]
  },
  {
   "cell_type": "code",
   "execution_count": 44,
   "metadata": {},
   "outputs": [
    {
     "data": {
      "image/svg+xml": [
       "<?xml version=\"1.0\" encoding=\"UTF-8\" standalone=\"no\"?>\n",
       "<!DOCTYPE svg PUBLIC \"-//W3C//DTD SVG 1.1//EN\"\n",
       " \"http://www.w3.org/Graphics/SVG/1.1/DTD/svg11.dtd\">\n",
       "<!-- Generated by graphviz version 9.0.0 (20230911.1827)\n",
       " -->\n",
       "<!-- Pages: 1 -->\n",
       "<svg width=\"827pt\" height=\"100pt\"\n",
       " viewBox=\"0.00 0.00 827.00 100.00\" xmlns=\"http://www.w3.org/2000/svg\" xmlns:xlink=\"http://www.w3.org/1999/xlink\">\n",
       "<g id=\"graph0\" class=\"graph\" transform=\"scale(1 1) rotate(0) translate(4 96)\">\n",
       "<polygon fill=\"white\" stroke=\"none\" points=\"-4,4 -4,-96 823,-96 823,4 -4,4\"/>\n",
       "<!-- 1041070728 -->\n",
       "<g id=\"node1\" class=\"node\">\n",
       "<title>1041070728</title>\n",
       "<polygon fill=\"none\" stroke=\"black\" points=\"631.5,-27.5 631.5,-63.5 819,-63.5 819,-27.5 631.5,-27.5\"/>\n",
       "<text text-anchor=\"middle\" x=\"641.75\" y=\"-40.2\" font-family=\"Times New Roman,serif\" font-size=\"14.00\">f</text>\n",
       "<polyline fill=\"none\" stroke=\"black\" points=\"652,-27.75 652,-63.5\"/>\n",
       "<text text-anchor=\"middle\" x=\"694.5\" y=\"-40.2\" font-family=\"Times New Roman,serif\" font-size=\"14.00\">data &#45;6.0000</text>\n",
       "<polyline fill=\"none\" stroke=\"black\" points=\"737,-27.75 737,-63.5\"/>\n",
       "<text text-anchor=\"middle\" x=\"778\" y=\"-40.2\" font-family=\"Times New Roman,serif\" font-size=\"14.00\">grad 0.0000</text>\n",
       "</g>\n",
       "<!-- 1041070728* -->\n",
       "<g id=\"node2\" class=\"node\">\n",
       "<title>1041070728*</title>\n",
       "<ellipse fill=\"none\" stroke=\"black\" cx=\"568.5\" cy=\"-45.5\" rx=\"27\" ry=\"18\"/>\n",
       "<text text-anchor=\"middle\" x=\"568.5\" y=\"-40.08\" font-family=\"Times New Roman,serif\" font-size=\"14.00\">*</text>\n",
       "</g>\n",
       "<!-- 1041070728*&#45;&gt;1041070728 -->\n",
       "<g id=\"edge1\" class=\"edge\">\n",
       "<title>1041070728*&#45;&gt;1041070728</title>\n",
       "<path fill=\"none\" stroke=\"black\" d=\"M595.75,-45.5C602.91,-45.5 611.12,-45.5 619.85,-45.5\"/>\n",
       "<polygon fill=\"black\" stroke=\"black\" points=\"619.64,-49 629.64,-45.5 619.64,-42 619.64,-49\"/>\n",
       "</g>\n",
       "<!-- 1041484744 -->\n",
       "<g id=\"node3\" class=\"node\">\n",
       "<title>1041484744</title>\n",
       "<polygon fill=\"none\" stroke=\"black\" points=\"1.5,-55.5 1.5,-91.5 187.5,-91.5 187.5,-55.5 1.5,-55.5\"/>\n",
       "<text text-anchor=\"middle\" x=\"13.25\" y=\"-68.2\" font-family=\"Times New Roman,serif\" font-size=\"14.00\">b</text>\n",
       "<polyline fill=\"none\" stroke=\"black\" points=\"25,-55.75 25,-91.5\"/>\n",
       "<text text-anchor=\"middle\" x=\"65.25\" y=\"-68.2\" font-family=\"Times New Roman,serif\" font-size=\"14.00\">data 3.0000</text>\n",
       "<polyline fill=\"none\" stroke=\"black\" points=\"105.5,-55.75 105.5,-91.5\"/>\n",
       "<text text-anchor=\"middle\" x=\"146.5\" y=\"-68.2\" font-family=\"Times New Roman,serif\" font-size=\"14.00\">grad 0.0000</text>\n",
       "</g>\n",
       "<!-- 1041059272* -->\n",
       "<g id=\"node5\" class=\"node\">\n",
       "<title>1041059272*</title>\n",
       "<ellipse fill=\"none\" stroke=\"black\" cx=\"252\" cy=\"-73.5\" rx=\"27\" ry=\"18\"/>\n",
       "<text text-anchor=\"middle\" x=\"252\" y=\"-68.08\" font-family=\"Times New Roman,serif\" font-size=\"14.00\">*</text>\n",
       "</g>\n",
       "<!-- 1041484744&#45;&gt;1041059272* -->\n",
       "<g id=\"edge5\" class=\"edge\">\n",
       "<title>1041484744&#45;&gt;1041059272*</title>\n",
       "<path fill=\"none\" stroke=\"black\" d=\"M187.75,-73.5C196.7,-73.5 205.38,-73.5 213.3,-73.5\"/>\n",
       "<polygon fill=\"black\" stroke=\"black\" points=\"213.15,-77 223.15,-73.5 213.15,-70 213.15,-77\"/>\n",
       "</g>\n",
       "<!-- 1005920712+ -->\n",
       "<g id=\"node8\" class=\"node\">\n",
       "<title>1005920712+</title>\n",
       "<ellipse fill=\"none\" stroke=\"black\" cx=\"252\" cy=\"-18.5\" rx=\"27\" ry=\"18\"/>\n",
       "<text text-anchor=\"middle\" x=\"252\" y=\"-13.07\" font-family=\"Times New Roman,serif\" font-size=\"14.00\">+</text>\n",
       "</g>\n",
       "<!-- 1041484744&#45;&gt;1005920712+ -->\n",
       "<g id=\"edge4\" class=\"edge\">\n",
       "<title>1041484744&#45;&gt;1005920712+</title>\n",
       "<path fill=\"none\" stroke=\"black\" d=\"M163.79,-55.01C172.34,-52.34 180.91,-49.48 189,-46.5 198.99,-42.82 209.62,-38.27 219.21,-33.91\"/>\n",
       "<polygon fill=\"black\" stroke=\"black\" points=\"220.54,-37.15 228.14,-29.76 217.59,-30.8 220.54,-37.15\"/>\n",
       "</g>\n",
       "<!-- 1041059272 -->\n",
       "<g id=\"node4\" class=\"node\">\n",
       "<title>1041059272</title>\n",
       "<polygon fill=\"none\" stroke=\"black\" points=\"315,-55.5 315,-91.5 505.5,-91.5 505.5,-55.5 315,-55.5\"/>\n",
       "<text text-anchor=\"middle\" x=\"326.75\" y=\"-68.2\" font-family=\"Times New Roman,serif\" font-size=\"14.00\">d</text>\n",
       "<polyline fill=\"none\" stroke=\"black\" points=\"338.5,-55.75 338.5,-91.5\"/>\n",
       "<text text-anchor=\"middle\" x=\"381\" y=\"-68.2\" font-family=\"Times New Roman,serif\" font-size=\"14.00\">data &#45;6.0000</text>\n",
       "<polyline fill=\"none\" stroke=\"black\" points=\"423.5,-55.75 423.5,-91.5\"/>\n",
       "<text text-anchor=\"middle\" x=\"464.5\" y=\"-68.2\" font-family=\"Times New Roman,serif\" font-size=\"14.00\">grad 0.0000</text>\n",
       "</g>\n",
       "<!-- 1041059272&#45;&gt;1041070728* -->\n",
       "<g id=\"edge9\" class=\"edge\">\n",
       "<title>1041059272&#45;&gt;1041070728*</title>\n",
       "<path fill=\"none\" stroke=\"black\" d=\"M505.75,-56.57C514.54,-54.99 523.04,-53.47 530.78,-52.08\"/>\n",
       "<polygon fill=\"black\" stroke=\"black\" points=\"531.16,-55.57 540.39,-50.36 529.93,-48.68 531.16,-55.57\"/>\n",
       "</g>\n",
       "<!-- 1041059272*&#45;&gt;1041059272 -->\n",
       "<g id=\"edge2\" class=\"edge\">\n",
       "<title>1041059272*&#45;&gt;1041059272</title>\n",
       "<path fill=\"none\" stroke=\"black\" d=\"M279.15,-73.5C286.3,-73.5 294.51,-73.5 303.25,-73.5\"/>\n",
       "<polygon fill=\"black\" stroke=\"black\" points=\"303.06,-77 313.06,-73.5 303.06,-70 303.06,-77\"/>\n",
       "</g>\n",
       "<!-- 1040836552 -->\n",
       "<g id=\"node6\" class=\"node\">\n",
       "<title>1040836552</title>\n",
       "<polygon fill=\"none\" stroke=\"black\" points=\"0,-0.5 0,-36.5 189,-36.5 189,-0.5 0,-0.5\"/>\n",
       "<text text-anchor=\"middle\" x=\"11\" y=\"-13.2\" font-family=\"Times New Roman,serif\" font-size=\"14.00\">a</text>\n",
       "<polyline fill=\"none\" stroke=\"black\" points=\"22,-0.75 22,-36.5\"/>\n",
       "<text text-anchor=\"middle\" x=\"64.5\" y=\"-13.2\" font-family=\"Times New Roman,serif\" font-size=\"14.00\">data &#45;2.0000</text>\n",
       "<polyline fill=\"none\" stroke=\"black\" points=\"107,-0.75 107,-36.5\"/>\n",
       "<text text-anchor=\"middle\" x=\"148\" y=\"-13.2\" font-family=\"Times New Roman,serif\" font-size=\"14.00\">grad 0.0000</text>\n",
       "</g>\n",
       "<!-- 1040836552&#45;&gt;1041059272* -->\n",
       "<g id=\"edge6\" class=\"edge\">\n",
       "<title>1040836552&#45;&gt;1041059272*</title>\n",
       "<path fill=\"none\" stroke=\"black\" d=\"M160.72,-36.94C170.26,-39.95 179.93,-43.18 189,-46.5 198.85,-50.11 209.38,-54.48 218.92,-58.66\"/>\n",
       "<polygon fill=\"black\" stroke=\"black\" points=\"217.22,-61.74 227.78,-62.61 220.08,-55.34 217.22,-61.74\"/>\n",
       "</g>\n",
       "<!-- 1040836552&#45;&gt;1005920712+ -->\n",
       "<g id=\"edge7\" class=\"edge\">\n",
       "<title>1040836552&#45;&gt;1005920712+</title>\n",
       "<path fill=\"none\" stroke=\"black\" d=\"M189.1,-18.5C197.62,-18.5 205.88,-18.5 213.44,-18.5\"/>\n",
       "<polygon fill=\"black\" stroke=\"black\" points=\"213.18,-22 223.18,-18.5 213.18,-15 213.18,-22\"/>\n",
       "</g>\n",
       "<!-- 1005920712 -->\n",
       "<g id=\"node7\" class=\"node\">\n",
       "<title>1005920712</title>\n",
       "<polygon fill=\"none\" stroke=\"black\" points=\"318,-0.5 318,-36.5 502.5,-36.5 502.5,-0.5 318,-0.5\"/>\n",
       "<text text-anchor=\"middle\" x=\"329\" y=\"-13.2\" font-family=\"Times New Roman,serif\" font-size=\"14.00\">e</text>\n",
       "<polyline fill=\"none\" stroke=\"black\" points=\"340,-0.75 340,-36.5\"/>\n",
       "<text text-anchor=\"middle\" x=\"380.25\" y=\"-13.2\" font-family=\"Times New Roman,serif\" font-size=\"14.00\">data 1.0000</text>\n",
       "<polyline fill=\"none\" stroke=\"black\" points=\"420.5,-0.75 420.5,-36.5\"/>\n",
       "<text text-anchor=\"middle\" x=\"461.5\" y=\"-13.2\" font-family=\"Times New Roman,serif\" font-size=\"14.00\">grad 0.0000</text>\n",
       "</g>\n",
       "<!-- 1005920712&#45;&gt;1041070728* -->\n",
       "<g id=\"edge8\" class=\"edge\">\n",
       "<title>1005920712&#45;&gt;1041070728*</title>\n",
       "<path fill=\"none\" stroke=\"black\" d=\"M502.59,-34.28C512.51,-36 522.14,-37.66 530.8,-39.16\"/>\n",
       "<polygon fill=\"black\" stroke=\"black\" points=\"530.02,-42.58 540.47,-40.83 531.22,-35.68 530.02,-42.58\"/>\n",
       "</g>\n",
       "<!-- 1005920712+&#45;&gt;1005920712 -->\n",
       "<g id=\"edge3\" class=\"edge\">\n",
       "<title>1005920712+&#45;&gt;1005920712</title>\n",
       "<path fill=\"none\" stroke=\"black\" d=\"M279.15,-18.5C287.11,-18.5 296.37,-18.5 306.23,-18.5\"/>\n",
       "<polygon fill=\"black\" stroke=\"black\" points=\"306.06,-22 316.06,-18.5 306.06,-15 306.06,-22\"/>\n",
       "</g>\n",
       "</g>\n",
       "</svg>\n"
      ],
      "text/plain": [
       "<graphviz.graphs.Digraph at 0x3e3a7708>"
      ]
     },
     "execution_count": 44,
     "metadata": {},
     "output_type": "execute_result"
    }
   ],
   "source": [
    "a = Value(-2.0, label='a')\n",
    "b = Value(3.0, label='b')\n",
    "d = a * b    ; d.label = 'd'\n",
    "e = a + b    ; e.label = 'e'\n",
    "f = d * e    ; f.label = 'f'\n",
    "\n",
    "f.backward()\n",
    "\n",
    "draw_dot(f)"
   ]
  },
  {
   "cell_type": "code",
   "execution_count": 48,
   "metadata": {},
   "outputs": [],
   "source": [
    "import torch"
   ]
  },
  {
   "cell_type": "code",
   "execution_count": 51,
   "metadata": {},
   "outputs": [
    {
     "name": "stdout",
     "output_type": "stream",
     "text": [
      "0.7071066904050358\n",
      "---\n",
      "x2 0.5000001283844369\n",
      "w2 0.0\n",
      "x1 -1.5000003851533106\n",
      "w1 1.0000002567688737\n"
     ]
    }
   ],
   "source": [
    "x1=torch.Tensor([2.0]).double(); x1.requires_grad = True\n",
    "x2=torch.Tensor([0.0]).double(); x2.requires_grad = True\n",
    "w1=torch.Tensor([-3.0]).double(); w1.requires_grad = True\n",
    "w2=torch.Tensor([1.0]).double(); w2.requires_grad = True\n",
    "b=torch.Tensor([6.8813735870195432]).double(); b.requires_grad = True\n",
    "n = x1*w1 + x2*w2 + b\n",
    "o = torch.tanh(n)\n",
    "\n",
    "print(o.data.item())\n",
    "o.backward()\n",
    "\n",
    "print('---')\n",
    "print('x2', x2.grad.item())\n",
    "print('w2', w2.grad.item())\n",
    "print('x1', x1.grad.item())\n",
    "print('w1', w1.grad.item())"
   ]
  },
  {
   "cell_type": "code",
   "execution_count": 53,
   "metadata": {},
   "outputs": [],
   "source": [
    "from typing import Any\n",
    "\n",
    "\n",
    "class Neuron:\n",
    "    def __init__(self,nin):\n",
    "        self.w = [Value(random.uniform(-1,1)) for _ in range(nin)]\n",
    "        self.b = Value(random.uniform(-1,1))\n",
    "\n",
    "    def __call__(self, x):\n",
    "        act = sum((wi*xi for wi,xi in zip(self.w,x)),self.b)\n",
    "        out = act.tanh()\n",
    "        return out\n",
    "    \n",
    "    def paramters(self):\n",
    "        return self.w + [self.b]\n",
    "    \n",
    "class Layer:\n",
    "\n",
    "    def __init__(self, nin,nout):\n",
    "        self.neurons = [Neuron(nin) for _ in range(nout)]\n",
    "\n",
    "    def __call__(self, x):\n",
    "        outs = [n(x) for n in self.neurons]\n",
    "        return outs[0] if len(outs) == 1 else outs\n",
    "    \n",
    "    def paramters(self):\n",
    "        return [p for neuron in self.neurons for p in neuron.paramters()]\n",
    "    \n",
    "class MLP:\n",
    "    \n",
    "    def __init__(self,nin,nouts):\n",
    "        sz = [nin] + nouts\n",
    "        self.layers = [Layer(sz[i], sz[i+1]) for i in range(len(nouts))]\n",
    "\n",
    "    def __call__(self, x):\n",
    "        for layer in self.layers:\n",
    "            x = layer(x)\n",
    "        return x\n",
    "    \n",
    "    def parameters(self):\n",
    "        return [p for layer in self.layers for p in layer.paramters()]"
   ]
  },
  {
   "cell_type": "code",
   "execution_count": 84,
   "metadata": {},
   "outputs": [
    {
     "data": {
      "text/plain": [
       "Value(data= -0.29225423140710294)"
      ]
     },
     "execution_count": 84,
     "metadata": {},
     "output_type": "execute_result"
    }
   ],
   "source": [
    "x = [2.0,3.0,-1.0]\n",
    "n = MLP(3,[4,4,1])\n",
    "n(x)"
   ]
  },
  {
   "cell_type": "code",
   "execution_count": 85,
   "metadata": {},
   "outputs": [],
   "source": [
    "xs = [[2.0,3.0,-1.0],\n",
    "      [3.0,-1.0,0.5],\n",
    "      [0.5,1.0,1.0],\n",
    "      [1.0,1.0,-1.0]]\n",
    "ys = [1.0,-1.0,-1.0,1.0]"
   ]
  },
  {
   "cell_type": "code",
   "execution_count": 105,
   "metadata": {},
   "outputs": [
    {
     "name": "stdout",
     "output_type": "stream",
     "text": [
      "0 5.134520386227435\n",
      "1 2.0015751554534\n",
      "2 0.8957608970846536\n",
      "3 0.537282494954729\n",
      "4 0.28550610358493267\n",
      "5 0.15502990351384094\n",
      "6 0.12093928245711147\n",
      "7 0.09899477534997395\n",
      "8 0.08339157088496726\n",
      "9 0.07177557883558876\n",
      "10 0.06282540956313001\n",
      "11 0.05573881964883454\n",
      "12 0.05000207424729379\n",
      "13 0.04527195531063394\n",
      "14 0.04131101087319848\n",
      "15 0.03795006353208788\n",
      "16 0.035065520032905945\n",
      "17 0.032565114012991704\n",
      "18 0.03037865398103971\n",
      "19 0.028451848520448686\n"
     ]
    }
   ],
   "source": [
    "for i in range(20):\n",
    "    # forward pass\n",
    "    ypred = [n(x) for x in xs]\n",
    "    loss = sum((yout - ygt)**2 for ygt, yout in zip(ys,ypred))\n",
    "\n",
    "    # backward pass\n",
    "    for p in n.parameters():\n",
    "        p.grad = 0.0\n",
    "    loss.backward()\n",
    "\n",
    "    #Update\n",
    "    for p in n.parameters():\n",
    "        p.data += -0.1 * p.grad\n",
    "    print(i, loss.data)"
   ]
  },
  {
   "cell_type": "code",
   "execution_count": null,
   "metadata": {},
   "outputs": [],
   "source": []
  }
 ],
 "metadata": {
  "kernelspec": {
   "display_name": "base",
   "language": "python",
   "name": "python3"
  },
  "language_info": {
   "codemirror_mode": {
    "name": "ipython",
    "version": 3
   },
   "file_extension": ".py",
   "mimetype": "text/x-python",
   "name": "python",
   "nbconvert_exporter": "python",
   "pygments_lexer": "ipython3",
   "version": "3.7.6"
  }
 },
 "nbformat": 4,
 "nbformat_minor": 2
}
