{
 "cells": [
  {
   "cell_type": "code",
   "execution_count": 2,
   "metadata": {},
   "outputs": [],
   "source": [
    "import pandas as pd\n",
    "import numpy as np\n",
    "import os\n",
    "import math\n",
    "import matplotlib.pyplot as plt\n",
    "%matplotlib inline\n"
   ]
  },
  {
   "cell_type": "markdown",
   "metadata": {},
   "source": [
    "1. intro\n",
    "2. micrograd overview\n",
    "3. derivative of a simple function with one input\n",
    "4. derivative of a function with multiple inputs\n",
    "5. starting the core Value object of micrograd and its visualization\n",
    "6. manual backpropagation example #1: simple expression\n",
    "7. preview of a single optimization step\n",
    "8. manual backpropagation example #2: a neuron\n",
    "9. implementing the backward function for each operation\n",
    "10. implementing the backward function for a whole expression graph\n",
    "11. fixing a backprop bug when one node is used multiple times\n",
    "12. breaking up a tanh, exercising with more operations\n",
    "13. doing the same thing but in PyTorch: comparison\n",
    "14. building out a neural net library (multi-layer perceptron) in micrograd\n",
    "15. creating a tiny dataset, writing the loss function\n",
    "16. collecting all of the parameters of the neural net\n",
    "17. doing gradient descent optimization manually, training the network\n",
    "18. summary of what we learned, how to go towards modern neural nets\n",
    "19. walkthrough of the full code of micrograd on github\n",
    "20. real stuff: diving into PyTorch, finding their backward pass for tanh\n",
    "21. conclusion"
   ]
  },
  {
   "cell_type": "markdown",
   "metadata": {},
   "source": [
    "## 3. derivative of a simple function with one input"
   ]
  },
  {
   "cell_type": "code",
   "execution_count": 3,
   "metadata": {},
   "outputs": [],
   "source": [
    "def f(x):\n",
    "    return 3*x**2 - 4*x + 5"
   ]
  },
  {
   "cell_type": "code",
   "execution_count": 4,
   "metadata": {},
   "outputs": [
    {
     "data": {
      "text/plain": [
       "20"
      ]
     },
     "execution_count": 4,
     "metadata": {},
     "output_type": "execute_result"
    }
   ],
   "source": [
    "f(3)"
   ]
  },
  {
   "cell_type": "code",
   "execution_count": 10,
   "metadata": {},
   "outputs": [
    {
     "data": {
      "text/plain": [
       "[<matplotlib.lines.Line2D at 0x3c1a99c8>]"
      ]
     },
     "execution_count": 10,
     "metadata": {},
     "output_type": "execute_result"
    },
    {
     "data": {
      "image/png": "[encoded data removed]",
      "text/plain": [
       "<Figure size 640x480 with 1 Axes>"
      ]
     },
     "metadata": {},
     "output_type": "display_data"
    }
   ],
   "source": [
    "xs = np.arange(-5,5,0.25)\n",
    "ys = f(xs)\n",
    "plt.plot(xs,ys)"
   ]
  },
  {
   "cell_type": "markdown",
   "metadata": {},
   "source": [
    "## 4. derivative of a function with multiple inputs"
   ]
  },
  {
   "cell_type": "code",
   "execution_count": 11,
   "metadata": {},
   "outputs": [
    {
     "data": {
      "text/plain": [
       "3.0000002482211127e-05"
      ]
     },
     "execution_count": 11,
     "metadata": {},
     "output_type": "execute_result"
    }
   ],
   "source": [
    "h = 0.00001\n",
    "x = 2/3\n",
    "(f(x+h) - f(x))/h"
   ]
  },
  {
   "cell_type": "code",
   "execution_count": 12,
   "metadata": {},
   "outputs": [
    {
     "name": "stdout",
     "output_type": "stream",
     "text": [
      "4.0\n"
     ]
    }
   ],
   "source": [
    "## lets start the complex topic\n",
    "a = 2.0\n",
    "b = -3.0\n",
    "c = 10.0\n",
    "d = a*b +c \n",
    "print(d)"
   ]
  },
  {
   "cell_type": "code",
   "execution_count": 15,
   "metadata": {},
   "outputs": [
    {
     "name": "stdout",
     "output_type": "stream",
     "text": [
      "d1: 4.0\n",
      "d2: 4.0009999999999994\n",
      "slope: 0.9999999999994458\n"
     ]
    }
   ],
   "source": [
    "h = 0.001\n",
    "\n",
    "# inputs\n",
    "a = 2.0\n",
    "b = -3.0\n",
    "c = 10.0\n",
    "\n",
    "d1 = a*b +c\n",
    "c += h\n",
    "d2 = a*b +c\n",
    "\n",
    "print(\"d1:\",d1)\n",
    "print(\"d2:\",d2)\n",
    "print('slope:',(d2-d1)/h)"
   ]
  },
  {
   "cell_type": "markdown",
   "metadata": {},
   "source": [
    "## 5. starting the core Value object of micrograd and its visualization"
   ]
  },
  {
   "cell_type": "code",
   "execution_count": 2,
   "metadata": {},
   "outputs": [
    {
     "data": {
      "text/plain": [
       "Value(data= -8.0)"
      ]
     },
     "execution_count": 2,
     "metadata": {},
     "output_type": "execute_result"
    }
   ],
   "source": [
    "class Value:\n",
    "    def __init__(self,data,_children=(),_op='',label=''):\n",
    "        self.data = data\n",
    "        self.grad = 0.0\n",
    "        self._backward = lambda: None\n",
    "        self._prev = set(_children)\n",
    "        self._op = _op\n",
    "        self.label = label\n",
    "\n",
    "    def __repr__(self):\n",
    "        return f\"Value(data= {self.data})\"\n",
    "    \n",
    "    def __add__(self,other):\n",
    "        out = Value(self.data + other.data, (self,other),'+')\n",
    "\n",
    "        def _backward():\n",
    "            self.grad += 1.0 * out.grad\n",
    "            other.grad += 1.0 * out.grad\n",
    "        out._backward = _backward\n",
    "\n",
    "        return out\n",
    "\n",
    "    def __mul__(self,other):\n",
    "        out = Value(self.data * other.data,(self,other),'*')\n",
    "        \n",
    "        def _backward():\n",
    "            self.grad += other.data * out.grad\n",
    "            other.grad += self.data * out.grad\n",
    "        out._backward = _backward\n",
    "\n",
    "        return out\n",
    "    \n",
    "    def tanh(self):\n",
    "        x = self.data\n",
    "        t = (math.exp(2*x)-1)/(math.exp(2*x)+1)\n",
    "        out = Value(t,(self,),'tanh')\n",
    "\n",
    "        def _backward():\n",
    "            self.grad += (1 - t**2) * out.grad\n",
    "        out._backward= _backward\n",
    "\n",
    "        return out\n",
    "    \n",
    "    def backward(self):\n",
    "        topo = []\n",
    "        visited = set()\n",
    "        def build_topo(v):\n",
    "            if v not in visited:\n",
    "                visited.add(v)\n",
    "                for child in v._prev:\n",
    "                    build_topo(child)\n",
    "                topo.append(v)\n",
    "        build_topo(self)\n",
    "\n",
    "        self_grad = 1.0\n",
    "        for node in reversed(topo):\n",
    "            node._backward()\n",
    "\n",
    "a = Value(2.0, label='a')\n",
    "b = Value(-3.0, label='b')\n",
    "c = Value(10.0, label='c')\n",
    "e = a*b; e.label = 'e'\n",
    "d = e + c; d.label = 'd'\n",
    "f = Value(-2.0, label='f')\n",
    "L = d * f; L.label = 'L'\n",
    "L"
   ]
  },
  {
   "cell_type": "markdown",
   "metadata": {},
   "source": [
    "5. starting the core Value object of micrograd and its visualization"
   ]
  },
  {
   "cell_type": "code",
   "execution_count": 3,
   "metadata": {},
   "outputs": [],
   "source": [
    "from graphviz import Digraph\n",
    "\n",
    "def trace(root):\n",
    "  # builds a set of all nodes and edges in a graph\n",
    "  nodes, edges = set(), set()\n",
    "  def build(v):\n",
    "    if v not in nodes:\n",
    "      nodes.add(v)\n",
    "      for child in v._prev:\n",
    "        edges.add((child, v))\n",
    "        build(child)\n",
    "  build(root)\n",
    "  return nodes, edges\n",
    "\n",
    "def draw_dot(root):\n",
    "  dot = Digraph(format='svg', graph_attr={'rankdir': 'LR'}) # LR = left to right\n",
    "  \n",
    "  nodes, edges = trace(root)\n",
    "  for n in nodes:\n",
    "    uid = str(id(n))\n",
    "    # for any value in the graph, create a rectangular ('record') node for it\n",
    "    dot.node(name = uid, label = \"{ %s | data %.4f | grad %.4f }\" % (n.label, n.data, n.grad), shape='record')\n",
    "    if n._op:\n",
    "      # if this value is a result of some operation, create an op node for it\n",
    "      dot.node(name = uid + n._op, label = n._op)\n",
    "      # and connect this node to it\n",
    "      dot.edge(uid + n._op, uid)\n",
    "\n",
    "  for n1, n2 in edges:\n",
    "    # connect n1 to the op node of n2\n",
    "    dot.edge(str(id(n1)), str(id(n2)) + n2._op)\n",
    "\n",
    "  return dot"
   ]
  },
  {
   "cell_type": "code",
   "execution_count": 4,
   "metadata": {},
   "outputs": [
    {
     "data": {
      "image/svg+xml": [
       "<?xml version=\"1.0\" encoding=\"UTF-8\" standalone=\"no\"?>\n",
       "<!DOCTYPE svg PUBLIC \"-//W3C//DTD SVG 1.1//EN\"\n",
       " \"http://www.w3.org/Graphics/SVG/1.1/DTD/svg11.dtd\">\n",
       "<!-- Generated by graphviz version 9.0.0 (20230911.1827)\n",
       " -->\n",
       "<!-- Pages: 1 -->\n",
       "<svg width=\"1147pt\" height=\"154pt\"\n",
       " viewBox=\"0.00 0.00 1147.25 154.00\" xmlns=\"http://www.w3.org/2000/svg\" xmlns:xlink=\"http://www.w3.org/1999/xlink\">\n",
       "<g id=\"graph0\" class=\"graph\" transform=\"scale(1 1) rotate(0) translate(4 150)\">\n",
       "<polygon fill=\"white\" stroke=\"none\" points=\"-4,4 -4,-150 1143.25,-150 1143.25,4 -4,4\"/>\n",
       "<!-- 123618888 -->\n",
       "<g id=\"node1\" class=\"node\">\n",
       "<title>123618888</title>\n",
       "<polygon fill=\"none\" stroke=\"black\" points=\"318,-27.5 318,-63.5 507,-63.5 507,-27.5 318,-27.5\"/>\n",
       "<text text-anchor=\"middle\" x=\"329\" y=\"-40.2\" font-family=\"Times New Roman,serif\" font-size=\"14.00\">e</text>\n",
       "<polyline fill=\"none\" stroke=\"black\" points=\"340,-27.75 340,-63.5\"/>\n",
       "<text text-anchor=\"middle\" x=\"382.5\" y=\"-40.2\" font-family=\"Times New Roman,serif\" font-size=\"14.00\">data &#45;6.0000</text>\n",
       "<polyline fill=\"none\" stroke=\"black\" points=\"425,-27.75 425,-63.5\"/>\n",
       "<text text-anchor=\"middle\" x=\"466\" y=\"-40.2\" font-family=\"Times New Roman,serif\" font-size=\"14.00\">grad 0.0000</text>\n",
       "</g>\n",
       "<!-- 127596744+ -->\n",
       "<g id=\"node6\" class=\"node\">\n",
       "<title>127596744+</title>\n",
       "<ellipse fill=\"none\" stroke=\"black\" cx=\"571.5\" cy=\"-72.5\" rx=\"27\" ry=\"18\"/>\n",
       "<text text-anchor=\"middle\" x=\"571.5\" y=\"-67.08\" font-family=\"Times New Roman,serif\" font-size=\"14.00\">+</text>\n",
       "</g>\n",
       "<!-- 123618888&#45;&gt;127596744+ -->\n",
       "<g id=\"edge6\" class=\"edge\">\n",
       "<title>123618888&#45;&gt;127596744+</title>\n",
       "<path fill=\"none\" stroke=\"black\" d=\"M507.09,-61.6C516.45,-63.2 525.5,-64.76 533.71,-66.17\"/>\n",
       "<polygon fill=\"black\" stroke=\"black\" points=\"533.1,-69.62 543.55,-67.87 534.29,-62.72 533.1,-69.62\"/>\n",
       "</g>\n",
       "<!-- 123618888* -->\n",
       "<g id=\"node2\" class=\"node\">\n",
       "<title>123618888*</title>\n",
       "<ellipse fill=\"none\" stroke=\"black\" cx=\"253.5\" cy=\"-45.5\" rx=\"27\" ry=\"18\"/>\n",
       "<text text-anchor=\"middle\" x=\"253.5\" y=\"-40.08\" font-family=\"Times New Roman,serif\" font-size=\"14.00\">*</text>\n",
       "</g>\n",
       "<!-- 123618888*&#45;&gt;123618888 -->\n",
       "<g id=\"edge1\" class=\"edge\">\n",
       "<title>123618888*&#45;&gt;123618888</title>\n",
       "<path fill=\"none\" stroke=\"black\" d=\"M280.78,-45.5C288.29,-45.5 296.96,-45.5 306.2,-45.5\"/>\n",
       "<polygon fill=\"black\" stroke=\"black\" points=\"306.2,-49 316.2,-45.5 306.2,-42 306.2,-49\"/>\n",
       "</g>\n",
       "<!-- 139861064 -->\n",
       "<g id=\"node3\" class=\"node\">\n",
       "<title>139861064</title>\n",
       "<polygon fill=\"none\" stroke=\"black\" points=\"3,-55.5 3,-91.5 187.5,-91.5 187.5,-55.5 3,-55.5\"/>\n",
       "<text text-anchor=\"middle\" x=\"14\" y=\"-68.2\" font-family=\"Times New Roman,serif\" font-size=\"14.00\">a</text>\n",
       "<polyline fill=\"none\" stroke=\"black\" points=\"25,-55.75 25,-91.5\"/>\n",
       "<text text-anchor=\"middle\" x=\"65.25\" y=\"-68.2\" font-family=\"Times New Roman,serif\" font-size=\"14.00\">data 2.0000</text>\n",
       "<polyline fill=\"none\" stroke=\"black\" points=\"105.5,-55.75 105.5,-91.5\"/>\n",
       "<text text-anchor=\"middle\" x=\"146.5\" y=\"-68.2\" font-family=\"Times New Roman,serif\" font-size=\"14.00\">grad 0.0000</text>\n",
       "</g>\n",
       "<!-- 139861064&#45;&gt;123618888* -->\n",
       "<g id=\"edge4\" class=\"edge\">\n",
       "<title>139861064&#45;&gt;123618888*</title>\n",
       "<path fill=\"none\" stroke=\"black\" d=\"M187.59,-57.13C197.51,-55.35 207.14,-53.63 215.8,-52.08\"/>\n",
       "<polygon fill=\"black\" stroke=\"black\" points=\"216.25,-55.55 225.48,-50.34 215.02,-48.66 216.25,-55.55\"/>\n",
       "</g>\n",
       "<!-- 139860104 -->\n",
       "<g id=\"node4\" class=\"node\">\n",
       "<title>139860104</title>\n",
       "<polygon fill=\"none\" stroke=\"black\" points=\"0,-0.5 0,-36.5 190.5,-36.5 190.5,-0.5 0,-0.5\"/>\n",
       "<text text-anchor=\"middle\" x=\"11.75\" y=\"-13.2\" font-family=\"Times New Roman,serif\" font-size=\"14.00\">b</text>\n",
       "<polyline fill=\"none\" stroke=\"black\" points=\"23.5,-0.75 23.5,-36.5\"/>\n",
       "<text text-anchor=\"middle\" x=\"66\" y=\"-13.2\" font-family=\"Times New Roman,serif\" font-size=\"14.00\">data &#45;3.0000</text>\n",
       "<polyline fill=\"none\" stroke=\"black\" points=\"108.5,-0.75 108.5,-36.5\"/>\n",
       "<text text-anchor=\"middle\" x=\"149.5\" y=\"-13.2\" font-family=\"Times New Roman,serif\" font-size=\"14.00\">grad 0.0000</text>\n",
       "</g>\n",
       "<!-- 139860104&#45;&gt;123618888* -->\n",
       "<g id=\"edge9\" class=\"edge\">\n",
       "<title>139860104&#45;&gt;123618888*</title>\n",
       "<path fill=\"none\" stroke=\"black\" d=\"M190.75,-34.83C199.54,-36.35 208.04,-37.82 215.78,-39.15\"/>\n",
       "<polygon fill=\"black\" stroke=\"black\" points=\"214.94,-42.56 225.39,-40.81 216.13,-35.66 214.94,-42.56\"/>\n",
       "</g>\n",
       "<!-- 127596744 -->\n",
       "<g id=\"node5\" class=\"node\">\n",
       "<title>127596744</title>\n",
       "<polygon fill=\"none\" stroke=\"black\" points=\"635.25,-54.5 635.25,-90.5 821.25,-90.5 821.25,-54.5 635.25,-54.5\"/>\n",
       "<text text-anchor=\"middle\" x=\"647\" y=\"-67.2\" font-family=\"Times New Roman,serif\" font-size=\"14.00\">d</text>\n",
       "<polyline fill=\"none\" stroke=\"black\" points=\"658.75,-54.75 658.75,-90.5\"/>\n",
       "<text text-anchor=\"middle\" x=\"699\" y=\"-67.2\" font-family=\"Times New Roman,serif\" font-size=\"14.00\">data 4.0000</text>\n",
       "<polyline fill=\"none\" stroke=\"black\" points=\"739.25,-54.75 739.25,-90.5\"/>\n",
       "<text text-anchor=\"middle\" x=\"780.25\" y=\"-67.2\" font-family=\"Times New Roman,serif\" font-size=\"14.00\">grad 0.0000</text>\n",
       "</g>\n",
       "<!-- 127597832* -->\n",
       "<g id=\"node8\" class=\"node\">\n",
       "<title>127597832*</title>\n",
       "<ellipse fill=\"none\" stroke=\"black\" cx=\"885\" cy=\"-99.5\" rx=\"27\" ry=\"18\"/>\n",
       "<text text-anchor=\"middle\" x=\"885\" y=\"-94.08\" font-family=\"Times New Roman,serif\" font-size=\"14.00\">*</text>\n",
       "</g>\n",
       "<!-- 127596744&#45;&gt;127597832* -->\n",
       "<g id=\"edge7\" class=\"edge\">\n",
       "<title>127596744&#45;&gt;127597832*</title>\n",
       "<path fill=\"none\" stroke=\"black\" d=\"M821.5,-88.6C830.64,-90.19 839.48,-91.73 847.5,-93.13\"/>\n",
       "<polygon fill=\"black\" stroke=\"black\" points=\"846.66,-96.54 857.12,-94.81 847.87,-89.64 846.66,-96.54\"/>\n",
       "</g>\n",
       "<!-- 127596744+&#45;&gt;127596744 -->\n",
       "<g id=\"edge2\" class=\"edge\">\n",
       "<title>127596744+&#45;&gt;127596744</title>\n",
       "<path fill=\"none\" stroke=\"black\" d=\"M598.75,-72.5C606.11,-72.5 614.58,-72.5 623.59,-72.5\"/>\n",
       "<polygon fill=\"black\" stroke=\"black\" points=\"623.3,-76 633.3,-72.5 623.3,-69 623.3,-76\"/>\n",
       "</g>\n",
       "<!-- 127597832 -->\n",
       "<g id=\"node7\" class=\"node\">\n",
       "<title>127597832</title>\n",
       "<polygon fill=\"none\" stroke=\"black\" points=\"948,-81.5 948,-117.5 1139.25,-117.5 1139.25,-81.5 948,-81.5\"/>\n",
       "<text text-anchor=\"middle\" x=\"960.12\" y=\"-94.2\" font-family=\"Times New Roman,serif\" font-size=\"14.00\">L</text>\n",
       "<polyline fill=\"none\" stroke=\"black\" points=\"972.25,-81.75 972.25,-117.5\"/>\n",
       "<text text-anchor=\"middle\" x=\"1014.75\" y=\"-94.2\" font-family=\"Times New Roman,serif\" font-size=\"14.00\">data &#45;8.0000</text>\n",
       "<polyline fill=\"none\" stroke=\"black\" points=\"1057.25,-81.75 1057.25,-117.5\"/>\n",
       "<text text-anchor=\"middle\" x=\"1098.25\" y=\"-94.2\" font-family=\"Times New Roman,serif\" font-size=\"14.00\">grad 0.0000</text>\n",
       "</g>\n",
       "<!-- 127597832*&#45;&gt;127597832 -->\n",
       "<g id=\"edge3\" class=\"edge\">\n",
       "<title>127597832*&#45;&gt;127597832</title>\n",
       "<path fill=\"none\" stroke=\"black\" d=\"M912.22,-99.5C919.38,-99.5 927.61,-99.5 936.37,-99.5\"/>\n",
       "<polygon fill=\"black\" stroke=\"black\" points=\"936.21,-103 946.21,-99.5 936.21,-96 936.21,-103\"/>\n",
       "</g>\n",
       "<!-- 138454856 -->\n",
       "<g id=\"node9\" class=\"node\">\n",
       "<title>138454856</title>\n",
       "<polygon fill=\"none\" stroke=\"black\" points=\"634.5,-109.5 634.5,-145.5 822,-145.5 822,-109.5 634.5,-109.5\"/>\n",
       "<text text-anchor=\"middle\" x=\"644.75\" y=\"-122.2\" font-family=\"Times New Roman,serif\" font-size=\"14.00\">f</text>\n",
       "<polyline fill=\"none\" stroke=\"black\" points=\"655,-109.75 655,-145.5\"/>\n",
       "<text text-anchor=\"middle\" x=\"697.5\" y=\"-122.2\" font-family=\"Times New Roman,serif\" font-size=\"14.00\">data &#45;2.0000</text>\n",
       "<polyline fill=\"none\" stroke=\"black\" points=\"740,-109.75 740,-145.5\"/>\n",
       "<text text-anchor=\"middle\" x=\"781\" y=\"-122.2\" font-family=\"Times New Roman,serif\" font-size=\"14.00\">grad 0.0000</text>\n",
       "</g>\n",
       "<!-- 138454856&#45;&gt;127597832* -->\n",
       "<g id=\"edge5\" class=\"edge\">\n",
       "<title>138454856&#45;&gt;127597832*</title>\n",
       "<path fill=\"none\" stroke=\"black\" d=\"M822.39,-110.65C831.15,-109.06 839.63,-107.53 847.34,-106.13\"/>\n",
       "<polygon fill=\"black\" stroke=\"black\" points=\"847.71,-109.62 856.93,-104.4 846.46,-102.73 847.71,-109.62\"/>\n",
       "</g>\n",
       "<!-- 139839944 -->\n",
       "<g id=\"node10\" class=\"node\">\n",
       "<title>139839944</title>\n",
       "<polygon fill=\"none\" stroke=\"black\" points=\"316.5,-82.5 316.5,-118.5 508.5,-118.5 508.5,-82.5 316.5,-82.5\"/>\n",
       "<text text-anchor=\"middle\" x=\"327.88\" y=\"-95.2\" font-family=\"Times New Roman,serif\" font-size=\"14.00\">c</text>\n",
       "<polyline fill=\"none\" stroke=\"black\" points=\"339.25,-82.75 339.25,-118.5\"/>\n",
       "<text text-anchor=\"middle\" x=\"382.88\" y=\"-95.2\" font-family=\"Times New Roman,serif\" font-size=\"14.00\">data 10.0000</text>\n",
       "<polyline fill=\"none\" stroke=\"black\" points=\"426.5,-82.75 426.5,-118.5\"/>\n",
       "<text text-anchor=\"middle\" x=\"467.5\" y=\"-95.2\" font-family=\"Times New Roman,serif\" font-size=\"14.00\">grad 0.0000</text>\n",
       "</g>\n",
       "<!-- 139839944&#45;&gt;127596744+ -->\n",
       "<g id=\"edge8\" class=\"edge\">\n",
       "<title>139839944&#45;&gt;127596744+</title>\n",
       "<path fill=\"none\" stroke=\"black\" d=\"M508.9,-83.49C517.68,-81.92 526.17,-80.41 533.89,-79.03\"/>\n",
       "<polygon fill=\"black\" stroke=\"black\" points=\"534.25,-82.52 543.48,-77.32 533.02,-75.63 534.25,-82.52\"/>\n",
       "</g>\n",
       "</g>\n",
       "</svg>\n"
      ],
      "text/plain": [
       "<graphviz.graphs.Digraph at 0x90eb88>"
      ]
     },
     "execution_count": 4,
     "metadata": {},
     "output_type": "execute_result"
    }
   ],
   "source": [
    "draw_dot(L)"
   ]
  },
  {
   "cell_type": "code",
   "execution_count": null,
   "metadata": {},
   "outputs": [],
   "source": []
  }
 ],
 "metadata": {
  "kernelspec": {
   "display_name": "base",
   "language": "python",
   "name": "python3"
  },
  "language_info": {
   "codemirror_mode": {
    "name": "ipython",
    "version": 3
   },
   "file_extension": ".py",
   "mimetype": "text/x-python",
   "name": "python",
   "nbconvert_exporter": "python",
   "pygments_lexer": "ipython3",
   "version": "3.7.6"
  }
 },
 "nbformat": 4,
 "nbformat_minor": 2
}
